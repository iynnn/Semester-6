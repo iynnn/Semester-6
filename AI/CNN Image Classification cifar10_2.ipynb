{
  "cells": [
    {
      "cell_type": "markdown",
      "metadata": {
        "id": "view-in-github",
        "colab_type": "text"
      },
      "source": [
        "<a href=\"https://colab.research.google.com/github/iynnn/Semester-6/blob/main/AI/CNN%20Image%20Classification%20cifar10_2.ipynb\" target=\"_parent\"><img src=\"https://colab.research.google.com/assets/colab-badge.svg\" alt=\"Open In Colab\"/></a>"
      ]
    },
    {
      "cell_type": "markdown",
      "metadata": {
        "id": "xgYWLjlHfDfX"
      },
      "source": [
        "# Image Classification using CIFAR 10 \n",
        " The images in CIFAR-10 are of size 3x32x32, i.e. 3-channel color images of 32x32 pixels in size."
      ]
    },
    {
      "cell_type": "markdown",
      "metadata": {
        "id": "enzXtqDYgBvP"
      },
      "source": [
        "# Load and Normalize CIFAR 10"
      ]
    },
    {
      "cell_type": "code",
      "execution_count": null,
      "metadata": {
        "colab": {
          "base_uri": "https://localhost:8080/"
        },
        "id": "ST3hnUR3gFtj",
        "outputId": "01dd5a50-0d58-4057-f655-ebe09777676c"
      },
      "outputs": [
        {
          "output_type": "execute_result",
          "data": {
            "text/plain": [
              "<torch._C.Generator at 0x7f93746d0e90>"
            ]
          },
          "metadata": {},
          "execution_count": 1
        }
      ],
      "source": [
        "import torch \n",
        "import torchvision\n",
        "import torchvision.transforms as transforms\n",
        "import numpy \n",
        "import random\n",
        "torch.manual_seed(43)"
      ]
    },
    {
      "cell_type": "code",
      "source": [
        "# define our device as the first visible buda device if we have CUDA available\n",
        "device = torch.device('cuda:0' if torch.cuda.is_available() else 'cpu')\n",
        "\n",
        "#Assumng that we are on a CUDA machine, this should print a cuda device: \n",
        "print(device)"
      ],
      "metadata": {
        "colab": {
          "base_uri": "https://localhost:8080/"
        },
        "id": "udNxK0lg5On8",
        "outputId": "07e1485b-d647-40e0-e3ea-130278f73a18"
      },
      "execution_count": null,
      "outputs": [
        {
          "output_type": "stream",
          "name": "stdout",
          "text": [
            "cuda:0\n"
          ]
        }
      ]
    },
    {
      "cell_type": "code",
      "execution_count": null,
      "metadata": {
        "id": "LszKOeGZL-5I"
      },
      "outputs": [],
      "source": [
        "def seed_all(seed):\n",
        "    if not seed:\n",
        "        seed = 43\n",
        "\n",
        "    print(\"[ Using Seed : \", seed, \" ]\")\n",
        "\n",
        "    torch.manual_seed(seed)\n",
        "    torch.cuda.manual_seed_all(seed)\n",
        "    torch.cuda.manual_seed(seed)\n",
        "    numpy.random.seed(seed)\n",
        "    random.seed(seed)\n",
        "    torch.backends.cudnn.deterministic = True\n",
        "    torch.backends.cudnn.benchmark = False"
      ]
    },
    {
      "cell_type": "code",
      "execution_count": null,
      "metadata": {
        "id": "HQ2l9LFeVayC"
      },
      "outputs": [],
      "source": [
        "def seed_worker(worker_id):\n",
        "    worker_seed = torch.initial_seed() % 2**32\n",
        "    numpy.random.seed(worker_seed)\n",
        "    random.seed(worker_seed)"
      ]
    },
    {
      "cell_type": "code",
      "execution_count": null,
      "metadata": {
        "colab": {
          "base_uri": "https://localhost:8080/"
        },
        "id": "K2N-LXZLVoog",
        "outputId": "5afaea9a-6403-487e-8ee8-2492f6a62f86"
      },
      "outputs": [
        {
          "output_type": "stream",
          "name": "stdout",
          "text": [
            "[ Using Seed :  43  ]\n"
          ]
        },
        {
          "output_type": "execute_result",
          "data": {
            "text/plain": [
              "<torch._C.Generator at 0x7f92bd30a010>"
            ]
          },
          "metadata": {},
          "execution_count": 5
        }
      ],
      "source": [
        "seed = 43\n",
        "seed_all(seed)\n",
        "g = torch.Generator()\n",
        "g.manual_seed(seed)"
      ]
    },
    {
      "cell_type": "code",
      "execution_count": null,
      "metadata": {
        "colab": {
          "base_uri": "https://localhost:8080/"
        },
        "id": "uhQpgIgSgQyU",
        "outputId": "cb57bd5c-5943-4b23-963e-713d2e41c65f"
      },
      "outputs": [
        {
          "output_type": "stream",
          "name": "stdout",
          "text": [
            "Downloading https://www.cs.toronto.edu/~kriz/cifar-10-python.tar.gz to /.data/cifar-10-python.tar.gz\n"
          ]
        },
        {
          "output_type": "stream",
          "name": "stderr",
          "text": [
            "100%|██████████| 170498071/170498071 [00:01<00:00, 101931618.88it/s]\n"
          ]
        },
        {
          "output_type": "stream",
          "name": "stdout",
          "text": [
            "Extracting /.data/cifar-10-python.tar.gz to /.data\n",
            "Files already downloaded and verified\n"
          ]
        }
      ],
      "source": [
        "import torch.utils.data as data\n",
        "transform  = transforms.Compose(\n",
        "    [transforms.ToTensor(),\n",
        "     transforms.Normalize((0.5, 0.5, 0.5),(0.5, 0.5, 0.5))]\n",
        ")\n",
        "\n",
        "batch_size = 4 \n",
        "\n",
        "\n",
        "trainset = torchvision.datasets.CIFAR10(root = '/.data', train = True, download = True, transform = transform)\n",
        "testset = torchvision.datasets.CIFAR10(root = '/.data', train = False, download = True, transform = transform)\n",
        "\n",
        "\n",
        "train_size = int(len(trainset) * 0.9)\n",
        "val_size = len(trainset) - train_size\n",
        "trainset, valset = data.random_split(trainset, [train_size, val_size])\n",
        "\n",
        "\n",
        "\n",
        "# variabel valloader untuk memuat data dari validation set \n",
        "trainloader = torch.utils.data.DataLoader(trainset, batch_size = batch_size, shuffle = True, num_workers = 2, worker_init_fn=seed_worker, generator = g)\n",
        "valloader = torch.utils.data.DataLoader(valset, batch_size = batch_size, shuffle = True, num_workers = 2, worker_init_fn=seed_worker, generator = g)\n",
        "testloader = torch.utils.data.DataLoader(testset, batch_size = batch_size, shuffle = True, num_workers = 2, worker_init_fn=seed_worker, generator = g)\n",
        "\n",
        "classes  =  ('plane', 'car', 'bird', 'cat', 'deer', 'dog', 'frog', 'horse', 'ship', 'truck')"
      ]
    },
    {
      "cell_type": "markdown",
      "source": [
        "loader itu untuk meload dataset kemudian nnantinya ada fungsi untuk memisahkan menjadi batch \n",
        "\n",
        "\n",
        "batch digunkan untuk membagi satu epoch untuk masuk ke dalam model "
      ],
      "metadata": {
        "id": "fR1mgA6d5axJ"
      }
    },
    {
      "cell_type": "code",
      "source": [
        "print(\"Jumlah record pada data training adalah : \" , len(trainset))\n",
        "print(\"Jumlah record pada data validation  adalah : \" ,len(valset))\n",
        "print(\"Jumlah record pada data testing adalah : \" ,len(testset))"
      ],
      "metadata": {
        "colab": {
          "base_uri": "https://localhost:8080/"
        },
        "id": "TUruFLep2z9v",
        "outputId": "b0f87fd3-9028-4ab3-dfcf-658a17070ccd"
      },
      "execution_count": null,
      "outputs": [
        {
          "output_type": "stream",
          "name": "stdout",
          "text": [
            "Jumlah record pada data training adalah :  45000\n",
            "Jumlah record pada data validation  adalah :  5000\n",
            "Jumlah record pada data testing adalah :  10000\n"
          ]
        }
      ]
    },
    {
      "cell_type": "code",
      "execution_count": null,
      "metadata": {
        "colab": {
          "base_uri": "https://localhost:8080/",
          "height": 210
        },
        "id": "_S96dpUJiKUF",
        "outputId": "d4feffe8-dd63-4aad-eef3-bae49e46842a"
      },
      "outputs": [
        {
          "output_type": "stream",
          "name": "stdout",
          "text": [
            "car   bird  cat   deer \n"
          ]
        },
        {
          "output_type": "display_data",
          "data": {
            "text/plain": [
              "<Figure size 640x480 with 1 Axes>"
            ],
            "image/png": "[encoded data removed]"
          },
          "metadata": {}
        }
      ],
      "source": [
        "import matplotlib.pyplot as plt\n",
        "import numpy as np\n",
        "\n",
        "# functions to show image \n",
        "\n",
        "def imshow(img):\n",
        "  img = img / 2 + 0.5 # unnormalize \n",
        "  npimg = img.numpy()\n",
        "  plt.imshow(np.transpose(npimg, (1,2,0)))\n",
        "  plt.show\n",
        "\n",
        "\n",
        "# get some random training images\n",
        "dataiter = iter(trainloader)\n",
        "images, labels = next(dataiter)\n",
        "\n",
        "# show image \n",
        "imshow(torchvision.utils.make_grid(images))\n",
        "\n",
        "print(' '.join(f'{classes[labels[j]]:5s}' for j in range(batch_size)))"
      ]
    },
    {
      "cell_type": "markdown",
      "metadata": {
        "id": "lfqKs_1IjnAS"
      },
      "source": [
        "# Define Convolutional Neural Network "
      ]
    },
    {
      "cell_type": "code",
      "execution_count": null,
      "metadata": {
        "id": "DA4-uvGmjsx8"
      },
      "outputs": [],
      "source": [
        "import torch.nn as nn\n",
        "import torch.nn.functional as F\n",
        "\n",
        "class Net(nn.Module):\n",
        "  def __init__(self):\n",
        "    super().__init__()\n",
        "\n",
        "    # berarti itu nyari sejumlah out_channel itu sesuai yang pengen kita lihat??\n",
        "    self.conv1 = nn.Conv2d(3,12,5) \n",
        "    # banyaknya filter itu sejumlah out_channel \n",
        "    # itu bisa disebut juga jumlah filternya juga\n",
        "\n",
        "    self.pool = nn.MaxPool2d(2,2)\n",
        "    self.conv2 = nn.Conv2d(12,16,5)\n",
        "\n",
        "\n",
        "    self.fc1 = nn.Linear(16 * 5 * 5, 120) # ini flattern inputnya dari ukuran dimensi pooling makanya jadi 5*5 *16\n",
        "    self.fc2 = nn.Linear(120, 84)\n",
        "    self.fc3 = nn.Linear(84, 10)\n",
        "\n",
        "  \n",
        "  def forward(self, x):\n",
        "    # torch (size) [4,3, 32, 32] --> 3 itu channelnya RGB,  4 itu batch size nya \n",
        "    x = self.pool(F.relu(self.conv1(x)))\n",
        "\n",
        "    # \n",
        "    x = self.pool(F.relu(self.conv2(x)))\n",
        "    x = torch.flatten(x, 1) # flatten all dimention except batch \n",
        "    x = F.relu(self.fc1(x))\n",
        "    x = F.relu(self.fc2(x))\n",
        "    x = self.fc3(x)\n",
        "    return x\n",
        "\n",
        "net = Net()\n"
      ]
    },
    {
      "cell_type": "markdown",
      "metadata": {
        "id": "_LVPXq_66PIt"
      },
      "source": [
        "# Define Loss Function and Optimizer "
      ]
    },
    {
      "cell_type": "code",
      "execution_count": null,
      "metadata": {
        "id": "qtVk2FEu6XT6"
      },
      "outputs": [],
      "source": [
        "import torch.optim as optim \n",
        "net.to(device)\n",
        "criterion = nn.CrossEntropyLoss()\n",
        "optimizer = optim.SGD(net.parameters(), lr = 0.001, momentum = 0.9)"
      ]
    },
    {
      "cell_type": "code",
      "execution_count": null,
      "metadata": {
        "colab": {
          "base_uri": "https://localhost:8080/"
        },
        "id": "2RrYV66uyC54",
        "outputId": "81a87cb7-6a00-4cf8-eedf-3c7c42398bb7"
      },
      "outputs": [
        {
          "output_type": "stream",
          "name": "stdout",
          "text": [
            "Model's state_dict:\n",
            "conv1.weight \t torch.Size([12, 3, 5, 5])\n",
            "conv1.bias \t torch.Size([12])\n",
            "conv2.weight \t torch.Size([16, 12, 5, 5])\n",
            "conv2.bias \t torch.Size([16])\n",
            "fc1.weight \t torch.Size([120, 400])\n",
            "fc1.bias \t torch.Size([120])\n",
            "fc2.weight \t torch.Size([84, 120])\n",
            "fc2.bias \t torch.Size([84])\n",
            "fc3.weight \t torch.Size([10, 84])\n",
            "fc3.bias \t torch.Size([10])\n"
          ]
        }
      ],
      "source": [
        "# Print model's state_dict\n",
        "print(\"Model's state_dict:\")\n",
        "for param_tensor in net.state_dict():\n",
        "  # if param_tensor == 'fc1.weight':\n",
        "    print(param_tensor, \"\\t\", net.state_dict()[param_tensor].size())"
      ]
    },
    {
      "cell_type": "code",
      "execution_count": null,
      "metadata": {
        "colab": {
          "base_uri": "https://localhost:8080/"
        },
        "id": "vgYaHoNYx7u4",
        "outputId": "aab0571c-148d-4e53-de4b-e3e00d024b13"
      },
      "outputs": [
        {
          "output_type": "stream",
          "name": "stdout",
          "text": [
            "Optimizer's state_dict:\n",
            "state \t {}\n",
            "param_groups \t [{'lr': 0.001, 'momentum': 0.9, 'dampening': 0, 'weight_decay': 0, 'nesterov': False, 'maximize': False, 'foreach': None, 'differentiable': False, 'params': [0, 1, 2, 3, 4, 5, 6, 7, 8, 9]}]\n"
          ]
        }
      ],
      "source": [
        "# Print optimizer's state_dict\n",
        "print(\"Optimizer's state_dict:\")\n",
        "for var_name in optimizer.state_dict():\n",
        "    print(var_name, \"\\t\", optimizer.state_dict()[var_name])"
      ]
    },
    {
      "cell_type": "markdown",
      "metadata": {
        "id": "cqYbGJWk18bK"
      },
      "source": [
        "## Untuk mereset parameter model, sehingga dapat dilakukan running model baru tanpa melihat model apa yang telah disimpan sebelumnya"
      ]
    },
    {
      "cell_type": "code",
      "execution_count": null,
      "metadata": {
        "id": "cLQPEbY22DvF"
      },
      "outputs": [],
      "source": [
        "# model.reset_parameters()\n",
        "# model.reset_parameters()\n",
        "for layer in net.children():\n",
        "   if hasattr(layer, 'reset_parameters'):\n",
        "       layer.reset_parameters()"
      ]
    },
    {
      "cell_type": "markdown",
      "metadata": {
        "id": "kH-mlwMG6pA-"
      },
      "source": [
        "# Train the Network "
      ]
    },
    {
      "cell_type": "code",
      "execution_count": null,
      "metadata": {
        "colab": {
          "base_uri": "https://localhost:8080/"
        },
        "id": "ZMrFIDdh6rGj",
        "outputId": "655c6192-25a4-4ab2-e33f-0ae0b94bbcff"
      },
      "outputs": [
        {
          "output_type": "stream",
          "name": "stdout",
          "text": [
            "[1,  2000] loss: 2.139\n",
            "[1,  4000] loss: 1.775\n",
            "[1,  6000] loss: 1.601\n",
            "[1,  8000] loss: 1.522\n",
            "[1, 10000] loss: 1.467\n",
            "Accuracy of the network on the 5000 test images : 49 %\n",
            "[2,  2000] loss: 1.377\n",
            "[2,  4000] loss: 1.308\n",
            "[2,  6000] loss: 1.286\n",
            "[2,  8000] loss: 1.293\n",
            "[2, 10000] loss: 1.249\n",
            "Accuracy of the network on the 5000 test images : 56 %\n",
            "[3,  2000] loss: 1.191\n",
            "[3,  4000] loss: 1.155\n",
            "[3,  6000] loss: 1.137\n",
            "[3,  8000] loss: 1.135\n",
            "[3, 10000] loss: 1.129\n",
            "Accuracy of the network on the 5000 test images : 58 %\n",
            "[4,  2000] loss: 1.040\n",
            "[4,  4000] loss: 1.046\n",
            "[4,  6000] loss: 1.040\n",
            "[4,  8000] loss: 1.047\n",
            "[4, 10000] loss: 1.056\n",
            "Accuracy of the network on the 5000 test images : 61 %\n",
            "[5,  2000] loss: 0.936\n",
            "[5,  4000] loss: 0.975\n",
            "[5,  6000] loss: 0.960\n",
            "[5,  8000] loss: 0.980\n",
            "[5, 10000] loss: 0.996\n",
            "Accuracy of the network on the 5000 test images : 62 %\n",
            "[6,  2000] loss: 0.873\n",
            "[6,  4000] loss: 0.904\n",
            "[6,  6000] loss: 0.912\n",
            "[6,  8000] loss: 0.926\n",
            "[6, 10000] loss: 0.928\n",
            "Accuracy of the network on the 5000 test images : 62 %\n",
            "[7,  2000] loss: 0.816\n",
            "[7,  4000] loss: 0.856\n",
            "[7,  6000] loss: 0.861\n",
            "[7,  8000] loss: 0.881\n",
            "[7, 10000] loss: 0.865\n",
            "Accuracy of the network on the 5000 test images : 63 %\n",
            "[8,  2000] loss: 0.769\n",
            "[8,  4000] loss: 0.822\n",
            "[8,  6000] loss: 0.831\n",
            "[8,  8000] loss: 0.818\n",
            "[8, 10000] loss: 0.841\n",
            "Accuracy of the network on the 5000 test images : 63 %\n",
            "[9,  2000] loss: 0.725\n",
            "[9,  4000] loss: 0.771\n",
            "[9,  6000] loss: 0.786\n",
            "[9,  8000] loss: 0.807\n",
            "[9, 10000] loss: 0.792\n",
            "Accuracy of the network on the 5000 test images : 65 %\n",
            "[10,  2000] loss: 0.686\n",
            "[10,  4000] loss: 0.727\n",
            "[10,  6000] loss: 0.762\n",
            "[10,  8000] loss: 0.783\n",
            "[10, 10000] loss: 0.765\n",
            "Accuracy of the network on the 5000 test images : 63 %\n",
            "Finished Training\n"
          ]
        }
      ],
      "source": [
        "n_epoch = 10\n",
        "akurasi = []\n",
        "temp_akurasi = 0\n",
        "\n",
        "\n",
        "for epoch in range(n_epoch):  # loop over the dataset multiple times\n",
        "\n",
        "    running_loss = 0.0\n",
        "    for i, data in enumerate(trainloader, 0):\n",
        "        # get the inputs; data is a list of [inputs, labels]\n",
        "        inputs, labels = data[0].to(device), data[1].to(device) # ini dipindahkan ke GPU \n",
        "\n",
        "        # zero the parameter gradients\n",
        "        optimizer.zero_grad()\n",
        "\n",
        "        # forward + backward + optimize\n",
        "        outputs = net(inputs)\n",
        "        loss = criterion(outputs, labels)\n",
        "        loss.backward()\n",
        "        optimizer.step()\n",
        "\n",
        "        # print statistics\n",
        "        running_loss += loss.item()\n",
        "        if i % 2000 == 1999:    # print every 2000 mini-batches\n",
        "            print(f'[{epoch + 1}, {i + 1:5d}] loss: {running_loss / 2000:.3f}')\n",
        "            running_loss = 0.0\n",
        "\n",
        "\n",
        "\n",
        "\n",
        "    correct = 0 \n",
        "    total = 0 \n",
        "\n",
        "    # since we're not training, we dont need to calculate the gradients for our outputs \n",
        "    with torch.no_grad():\n",
        "      for data in valloader:\n",
        "        images, labels = data \n",
        "\n",
        "        # calculate output by running images through the network \n",
        "        outputs = net(images.to(device)) # ngitung modelnya \n",
        "\n",
        "        # the class with the highest energy  is what we choose as prediction \n",
        "        _, predicted = torch.max(outputs.data.detach().cpu(), 1) # ini mindahini ke CPU nya \n",
        "        total += labels.size(0)\n",
        "        correct +=  (predicted == labels).sum().item()\n",
        "# nanti nyimpen model dengan akurasi paling tiinggi, ya dibandingin aja\n",
        "# jangan lupa nyimpen masing-masing akurasinya \n",
        "    acc = 100 * correct // total \n",
        "    print(f'Accuracy of the network on the {total} test images : {acc} %')\n",
        "    akurasi.append(acc)\n",
        "\n",
        "    # print(\"Model's state_dict:\")\n",
        "    # for param_tensor in net.state_dict():\n",
        "    #   if param_tensor == 'fc1.bias' : \n",
        "    #     print(param_tensor, \"\\t\", net.state_dict()[param_tensor])\n",
        "\n",
        "    \n",
        "    # saving model which the best accuracy \n",
        "    if acc > temp_akurasi :\n",
        "      temp_net = net\n",
        "\n",
        "torch.save(temp_net.state_dict(), './model bagus2.pth')\n",
        "print('Finished Training')"
      ]
    },
    {
      "cell_type": "markdown",
      "metadata": {
        "id": "f7d-_soJ0e6B"
      },
      "source": [
        "masih kurang paham gimana cara kerjanya dari model model itu, maksudnya itu model mana yang dipake dan sedang bekerja itu gimana\n",
        "\n",
        "maksudnya itu kan udah di run, trus di run ulang itu nanti loss entropinya bakalan stuck gitu \n",
        "\n",
        "{UDAH SOLVED}"
      ]
    },
    {
      "cell_type": "markdown",
      "metadata": {
        "id": "SdcF5sUi0h0L"
      },
      "source": []
    },
    {
      "cell_type": "markdown",
      "metadata": {
        "id": "24ZTMwbNO-_9"
      },
      "source": []
    },
    {
      "cell_type": "code",
      "execution_count": null,
      "metadata": {
        "colab": {
          "base_uri": "https://localhost:8080/",
          "height": 489
        },
        "id": "cO0YWn-pd5lV",
        "outputId": "ca193c72-8c42-4848-f7f3-18a9a977c253"
      },
      "outputs": [
        {
          "output_type": "execute_result",
          "data": {
            "text/plain": [
              "Text(0.5, 0, 'Epoch')"
            ]
          },
          "metadata": {},
          "execution_count": 15
        },
        {
          "output_type": "display_data",
          "data": {
            "text/plain": [
              "<Figure size 640x480 with 1 Axes>"
            ],
            "image/png": "[encoded data removed]"
          },
          "metadata": {}
        }
      ],
      "source": [
        "x = range(1,n_epoch+1)\n",
        "# plt.plot()\n",
        "plt.plot(x, akurasi)\n",
        "plt.title(\"Accuracy on Validation Set Model 7A\")\n",
        "plt.xlabel(\"Epoch\")"
      ]
    },
    {
      "cell_type": "code",
      "execution_count": null,
      "metadata": {
        "id": "_8DtM9t9fb3L"
      },
      "outputs": [],
      "source": []
    },
    {
      "cell_type": "code",
      "execution_count": null,
      "metadata": {
        "id": "uI5eJgDW7yxv"
      },
      "outputs": [],
      "source": [
        "# # save the training \n",
        "# path = './cifar_net.pth'\n",
        "# torch.save(net.state_dict(), path)"
      ]
    },
    {
      "cell_type": "markdown",
      "metadata": {
        "id": "vuGDitmo8SVI"
      },
      "source": [
        "# Test the Network on the Test Data "
      ]
    },
    {
      "cell_type": "code",
      "execution_count": null,
      "metadata": {
        "id": "7qjSaIXJAqND"
      },
      "outputs": [],
      "source": [
        "# dataiter =  iter(testloader)\n",
        "# images, labels = next(dataiter)\n",
        "\n",
        "\n",
        "# # print images \n",
        "# imshow(torchvision.utils.make_grid(images))\n",
        "# print('Ground Truth : ', ' '.join(f'{classes[labels[j]]:5s}' for j in range(4)))"
      ]
    },
    {
      "cell_type": "code",
      "execution_count": null,
      "metadata": {
        "id": "_ZMh_52pBKSE",
        "colab": {
          "base_uri": "https://localhost:8080/"
        },
        "outputId": "1793b471-0ff6-4fa3-a447-62ec50f8374f"
      },
      "outputs": [
        {
          "output_type": "execute_result",
          "data": {
            "text/plain": [
              "<All keys matched successfully>"
            ]
          },
          "metadata": {},
          "execution_count": 22
        }
      ],
      "source": [
        "# Load the data we've saved\n",
        "# actually not important, but we have to do it \n",
        "net = Net()\n",
        "net.to(device)\n",
        "net.load_state_dict(torch.load('./model bagus2.pth'))\n"
      ]
    },
    {
      "cell_type": "code",
      "execution_count": null,
      "metadata": {
        "id": "b5pF8WpVBcgs"
      },
      "outputs": [],
      "source": [
        "outputs = net(images.to(device))"
      ]
    },
    {
      "cell_type": "code",
      "execution_count": null,
      "metadata": {
        "id": "mri4ZoIBBogP",
        "colab": {
          "base_uri": "https://localhost:8080/"
        },
        "outputId": "52934e5f-8001-444d-e059-4702dab12ac2"
      },
      "outputs": [
        {
          "output_type": "stream",
          "name": "stdout",
          "text": [
            "Predicted :  frog  frog  plane horse\n"
          ]
        }
      ],
      "source": [
        "_, predicted = torch.max(outputs, 1)\n",
        "\n",
        "print('Predicted : ', ' '. join(f'{classes[predicted[j]]:5s}' for j in range(4)))"
      ]
    },
    {
      "cell_type": "code",
      "execution_count": null,
      "metadata": {
        "id": "AO5R1JrcCXYY",
        "colab": {
          "base_uri": "https://localhost:8080/"
        },
        "outputId": "11e40914-1bed-4bca-e864-69d25cda0522"
      },
      "outputs": [
        {
          "output_type": "stream",
          "name": "stdout",
          "text": [
            "Accuracy of the network on the 10.000 test images : 64 %\n"
          ]
        }
      ],
      "source": [
        "correct = 0 \n",
        "total = 0 \n",
        "\n",
        "# since we're not training, we dont need to calculate the gradients for our outputs \n",
        "with torch.no_grad():\n",
        "  for data in testloader:\n",
        "    images, labels = data \n",
        "\n",
        "    # calculate output by running images through the network \n",
        "    outputs = net(images.to(device))\n",
        "\n",
        "    # the class with the highest energy  is what we choose as prediction \n",
        "    _, predicted = torch.max(outputs.data.detach().cpu(), 1)\n",
        "    total += labels.size(0)\n",
        "    correct +=  (predicted == labels).sum().item()\n",
        "\n",
        "print(f'Accuracy of the network on the 10.000 test images : {100 * correct // total } %')"
      ]
    },
    {
      "cell_type": "markdown",
      "metadata": {
        "id": "_Thmgpu2F8-3"
      },
      "source": []
    },
    {
      "cell_type": "code",
      "execution_count": null,
      "metadata": {
        "id": "ZOSRN9GiEMnA",
        "colab": {
          "base_uri": "https://localhost:8080/"
        },
        "outputId": "abb86e04-f199-4b3e-b156-2d1ecaa76864"
      },
      "outputs": [
        {
          "output_type": "stream",
          "name": "stdout",
          "text": [
            "Accuracy for class : plane is 71.7%\n",
            "Accuracy for class : car   is 78.2%\n",
            "Accuracy for class : bird  is 47.2%\n",
            "Accuracy for class : cat   is 43.8%\n",
            "Accuracy for class : deer  is 67.7%\n",
            "Accuracy for class : dog   is 56.6%\n",
            "Accuracy for class : frog  is 73.0%\n",
            "Accuracy for class : horse is 59.7%\n",
            "Accuracy for class : ship  is 71.2%\n",
            "Accuracy for class : truck is 77.1%\n"
          ]
        }
      ],
      "source": [
        "# prepare to count predicton for each class \n",
        "correct_pred = {classname: 0 for classname in classes}\n",
        "total_pred = {classname: 0 for classname in classes}\n",
        "\n",
        "# again no gradients needed\n",
        "with torch.no_grad():\n",
        "  for data in testloader:\n",
        "    images, labels = data[0].to(device), data[1].to(device) \n",
        "    outputs = net(images)\n",
        "    _, predictions = torch.max(outputs, 1)\n",
        "\n",
        "    #collect the correct predictions for each class\n",
        "    for label, prediction in zip(labels, predictions):\n",
        "      if label == prediction: \n",
        "        correct_pred[classes[label]] +=1\n",
        "      total_pred[classes[label]] += 1\n",
        "\n",
        "# print accuracy for each class\n",
        "for classname, correct_count in correct_pred.items():\n",
        "  accuracy = 100 * float(correct_count) / total_pred[classname]\n",
        "  print(f'Accuracy for class : {classname:5s} is {accuracy :.1f}%')\n"
      ]
    },
    {
      "cell_type": "markdown",
      "metadata": {
        "id": "lXPfc8ftGKAU"
      },
      "source": [
        "# Training on GPU "
      ]
    },
    {
      "cell_type": "code",
      "execution_count": null,
      "metadata": {
        "id": "BpIyW0ohGLRJ",
        "colab": {
          "base_uri": "https://localhost:8080/"
        },
        "outputId": "c8a613ed-891c-4088-802c-a1038c4b821d"
      },
      "outputs": [
        {
          "output_type": "stream",
          "name": "stdout",
          "text": [
            "cuda:0\n"
          ]
        }
      ],
      "source": [
        "# define our device as the first visible buda device if we have CUDA available\n",
        "device = torch.device('cuda:0' if torch.cuda.is_available() else 'cpu')\n",
        "\n",
        "#Assumng that we are on a CUDA machine, this should print a cuda device: \n",
        "print(device)"
      ]
    },
    {
      "cell_type": "code",
      "execution_count": null,
      "metadata": {
        "id": "ogUvcP-LHNY7",
        "colab": {
          "base_uri": "https://localhost:8080/"
        },
        "outputId": "f967a763-1294-4bc8-9aa5-bd90fd08f793"
      },
      "outputs": [
        {
          "output_type": "execute_result",
          "data": {
            "text/plain": [
              "Net(\n",
              "  (conv1): Conv2d(3, 12, kernel_size=(5, 5), stride=(1, 1))\n",
              "  (pool): MaxPool2d(kernel_size=2, stride=2, padding=0, dilation=1, ceil_mode=False)\n",
              "  (conv2): Conv2d(12, 16, kernel_size=(5, 5), stride=(1, 1))\n",
              "  (fc1): Linear(in_features=400, out_features=120, bias=True)\n",
              "  (fc2): Linear(in_features=120, out_features=84, bias=True)\n",
              "  (fc3): Linear(in_features=84, out_features=10, bias=True)\n",
              ")"
            ]
          },
          "metadata": {},
          "execution_count": 28
        }
      ],
      "source": [
        "# Assume that our device has a CUDA \n",
        "net.to(device)"
      ]
    },
    {
      "cell_type": "code",
      "execution_count": null,
      "metadata": {
        "id": "Pw9k6anUJfmZ"
      },
      "outputs": [],
      "source": [
        "inputs, labels = data[0].to(device), data[1].to(device)"
      ]
    }
  ],
  "metadata": {
    "accelerator": "GPU",
    "colab": {
      "provenance": [],
      "gpuType": "T4",
      "authorship_tag": "ABX9TyPHypEKH85ikBlmAlERSqGx",
      "include_colab_link": true
    },
    "gpuClass": "standard",
    "kernelspec": {
      "display_name": "Python 3",
      "name": "python3"
    },
    "language_info": {
      "name": "python"
    }
  },
  "nbformat": 4,
  "nbformat_minor": 0
}