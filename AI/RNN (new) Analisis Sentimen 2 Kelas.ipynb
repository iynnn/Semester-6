{
  "nbformat": 4,
  "nbformat_minor": 0,
  "metadata": {
    "colab": {
      "provenance": [],
      "gpuType": "T4",
      "authorship_tag": "ABX9TyOlcO1Ag1WW6K86F9DfCamz",
      "include_colab_link": true
    },
    "kernelspec": {
      "name": "python3",
      "display_name": "Python 3"
    },
    "language_info": {
      "name": "python"
    },
    "accelerator": "GPU"
  },
  "cells": [
    {
      "cell_type": "markdown",
      "metadata": {
        "id": "view-in-github",
        "colab_type": "text"
      },
      "source": [
        "<a href=\"https://colab.research.google.com/github/iynnn/Semester-6/blob/main/AI/RNN%20(new)%20Analisis%20Sentimen%202%20Kelas.ipynb\" target=\"_parent\"><img src=\"https://colab.research.google.com/assets/colab-badge.svg\" alt=\"Open In Colab\"/></a>"
      ]
    },
    {
      "cell_type": "markdown",
      "source": [
        "# Analisis Sentimen RNN\n",
        "Muhamad Feriyanto / 3SD1/ 222011347 / Artificial Intellegence Pertemuan 11"
      ],
      "metadata": {
        "id": "vtWigkZUDxy5"
      }
    },
    {
      "cell_type": "code",
      "source": [
        "# library yang akan digunakan untuk preprocessing tweet\n",
        "# $ pip install tweet-preprocessor \n",
        "!pip install tweet-preprocessor -q"
      ],
      "metadata": {
        "id": "W5UCp-XDJySE"
      },
      "execution_count": 1,
      "outputs": []
    },
    {
      "cell_type": "code",
      "source": [
        "import pandas as pd\n",
        "import preprocessor as p\n",
        "import re\n",
        "from google.colab import drive\n",
        "drive.mount(\"/content/drive\", force_remount = True)\n"
      ],
      "metadata": {
        "colab": {
          "base_uri": "https://localhost:8080/"
        },
        "id": "fW6QTl7gEI83",
        "outputId": "e3d35596-bae6-4ac3-f919-e3eec012c19f"
      },
      "execution_count": 2,
      "outputs": [
        {
          "output_type": "stream",
          "name": "stdout",
          "text": [
            "Mounted at /content/drive\n"
          ]
        }
      ]
    },
    {
      "cell_type": "markdown",
      "source": [
        "## Input Data Tweets from Google Drive"
      ],
      "metadata": {
        "id": "TUvbhr61Gt7c"
      }
    },
    {
      "cell_type": "code",
      "source": [
        "path = \"/content/drive/MyDrive/[01] Kelass/3SD1/Smt 6 /AI/[11]/Tweets.csv\"\n",
        "\n",
        "df_raw = pd.read_csv(path)\n",
        "df_raw.info()"
      ],
      "metadata": {
        "colab": {
          "base_uri": "https://localhost:8080/"
        },
        "id": "7UPV_4LbEe_v",
        "outputId": "d957737a-4b65-46f0-d823-b0559d9ef27e"
      },
      "execution_count": 3,
      "outputs": [
        {
          "output_type": "stream",
          "name": "stdout",
          "text": [
            "<class 'pandas.core.frame.DataFrame'>\n",
            "RangeIndex: 14640 entries, 0 to 14639\n",
            "Data columns (total 15 columns):\n",
            " #   Column                        Non-Null Count  Dtype  \n",
            "---  ------                        --------------  -----  \n",
            " 0   tweet_id                      14640 non-null  int64  \n",
            " 1   airline_sentiment             14640 non-null  object \n",
            " 2   airline_sentiment_confidence  14640 non-null  float64\n",
            " 3   negativereason                9178 non-null   object \n",
            " 4   negativereason_confidence     10522 non-null  float64\n",
            " 5   airline                       14640 non-null  object \n",
            " 6   airline_sentiment_gold        40 non-null     object \n",
            " 7   name                          14640 non-null  object \n",
            " 8   negativereason_gold           32 non-null     object \n",
            " 9   retweet_count                 14640 non-null  int64  \n",
            " 10  text                          14640 non-null  object \n",
            " 11  tweet_coord                   1019 non-null   object \n",
            " 12  tweet_created                 14640 non-null  object \n",
            " 13  tweet_location                9907 non-null   object \n",
            " 14  user_timezone                 9820 non-null   object \n",
            "dtypes: float64(2), int64(2), object(11)\n",
            "memory usage: 1.7+ MB\n"
          ]
        }
      ]
    },
    {
      "cell_type": "code",
      "source": [
        "df_raw.head()"
      ],
      "metadata": {
        "colab": {
          "base_uri": "https://localhost:8080/",
          "height": 496
        },
        "id": "OMp1GVPJFGoR",
        "outputId": "f0081171-0fc3-4043-b3de-f645c223c8e4"
      },
      "execution_count": 4,
      "outputs": [
        {
          "output_type": "execute_result",
          "data": {
            "text/plain": [
              "             tweet_id airline_sentiment  airline_sentiment_confidence  \\\n",
              "0  570306133677760513           neutral                        1.0000   \n",
              "1  570301130888122368          positive                        0.3486   \n",
              "2  570301083672813571           neutral                        0.6837   \n",
              "3  570301031407624196          negative                        1.0000   \n",
              "4  570300817074462722          negative                        1.0000   \n",
              "\n",
              "  negativereason  negativereason_confidence         airline  \\\n",
              "0            NaN                        NaN  Virgin America   \n",
              "1            NaN                     0.0000  Virgin America   \n",
              "2            NaN                        NaN  Virgin America   \n",
              "3     Bad Flight                     0.7033  Virgin America   \n",
              "4     Can't Tell                     1.0000  Virgin America   \n",
              "\n",
              "  airline_sentiment_gold        name negativereason_gold  retweet_count  \\\n",
              "0                    NaN     cairdin                 NaN              0   \n",
              "1                    NaN    jnardino                 NaN              0   \n",
              "2                    NaN  yvonnalynn                 NaN              0   \n",
              "3                    NaN    jnardino                 NaN              0   \n",
              "4                    NaN    jnardino                 NaN              0   \n",
              "\n",
              "                                                text tweet_coord  \\\n",
              "0                @VirginAmerica What @dhepburn said.         NaN   \n",
              "1  @VirginAmerica plus you've added commercials t...         NaN   \n",
              "2  @VirginAmerica I didn't today... Must mean I n...         NaN   \n",
              "3  @VirginAmerica it's really aggressive to blast...         NaN   \n",
              "4  @VirginAmerica and it's a really big bad thing...         NaN   \n",
              "\n",
              "               tweet_created tweet_location               user_timezone  \n",
              "0  2015-02-24 11:35:52 -0800            NaN  Eastern Time (US & Canada)  \n",
              "1  2015-02-24 11:15:59 -0800            NaN  Pacific Time (US & Canada)  \n",
              "2  2015-02-24 11:15:48 -0800      Lets Play  Central Time (US & Canada)  \n",
              "3  2015-02-24 11:15:36 -0800            NaN  Pacific Time (US & Canada)  \n",
              "4  2015-02-24 11:14:45 -0800            NaN  Pacific Time (US & Canada)  "
            ],
            "text/html": [
              "\n",
              "  <div id=\"df-59273875-35da-4eb0-bb15-3b71ada47427\">\n",
              "    <div class=\"colab-df-container\">\n",
              "      <div>\n",
              "<style scoped>\n",
              "    .dataframe tbody tr th:only-of-type {\n",
              "        vertical-align: middle;\n",
              "    }\n",
              "\n",
              "    .dataframe tbody tr th {\n",
              "        vertical-align: top;\n",
              "    }\n",
              "\n",
              "    .dataframe thead th {\n",
              "        text-align: right;\n",
              "    }\n",
              "</style>\n",
              "<table border=\"1\" class=\"dataframe\">\n",
              "  <thead>\n",
              "    <tr style=\"text-align: right;\">\n",
              "      <th></th>\n",
              "      <th>tweet_id</th>\n",
              "      <th>airline_sentiment</th>\n",
              "      <th>airline_sentiment_confidence</th>\n",
              "      <th>negativereason</th>\n",
              "      <th>negativereason_confidence</th>\n",
              "      <th>airline</th>\n",
              "      <th>airline_sentiment_gold</th>\n",
              "      <th>name</th>\n",
              "      <th>negativereason_gold</th>\n",
              "      <th>retweet_count</th>\n",
              "      <th>text</th>\n",
              "      <th>tweet_coord</th>\n",
              "      <th>tweet_created</th>\n",
              "      <th>tweet_location</th>\n",
              "      <th>user_timezone</th>\n",
              "    </tr>\n",
              "  </thead>\n",
              "  <tbody>\n",
              "    <tr>\n",
              "      <th>0</th>\n",
              "      <td>570306133677760513</td>\n",
              "      <td>neutral</td>\n",
              "      <td>1.0000</td>\n",
              "      <td>NaN</td>\n",
              "      <td>NaN</td>\n",
              "      <td>Virgin America</td>\n",
              "      <td>NaN</td>\n",
              "      <td>cairdin</td>\n",
              "      <td>NaN</td>\n",
              "      <td>0</td>\n",
              "      <td>@VirginAmerica What @dhepburn said.</td>\n",
              "      <td>NaN</td>\n",
              "      <td>2015-02-24 11:35:52 -0800</td>\n",
              "      <td>NaN</td>\n",
              "      <td>Eastern Time (US &amp; Canada)</td>\n",
              "    </tr>\n",
              "    <tr>\n",
              "      <th>1</th>\n",
              "      <td>570301130888122368</td>\n",
              "      <td>positive</td>\n",
              "      <td>0.3486</td>\n",
              "      <td>NaN</td>\n",
              "      <td>0.0000</td>\n",
              "      <td>Virgin America</td>\n",
              "      <td>NaN</td>\n",
              "      <td>jnardino</td>\n",
              "      <td>NaN</td>\n",
              "      <td>0</td>\n",
              "      <td>@VirginAmerica plus you've added commercials t...</td>\n",
              "      <td>NaN</td>\n",
              "      <td>2015-02-24 11:15:59 -0800</td>\n",
              "      <td>NaN</td>\n",
              "      <td>Pacific Time (US &amp; Canada)</td>\n",
              "    </tr>\n",
              "    <tr>\n",
              "      <th>2</th>\n",
              "      <td>570301083672813571</td>\n",
              "      <td>neutral</td>\n",
              "      <td>0.6837</td>\n",
              "      <td>NaN</td>\n",
              "      <td>NaN</td>\n",
              "      <td>Virgin America</td>\n",
              "      <td>NaN</td>\n",
              "      <td>yvonnalynn</td>\n",
              "      <td>NaN</td>\n",
              "      <td>0</td>\n",
              "      <td>@VirginAmerica I didn't today... Must mean I n...</td>\n",
              "      <td>NaN</td>\n",
              "      <td>2015-02-24 11:15:48 -0800</td>\n",
              "      <td>Lets Play</td>\n",
              "      <td>Central Time (US &amp; Canada)</td>\n",
              "    </tr>\n",
              "    <tr>\n",
              "      <th>3</th>\n",
              "      <td>570301031407624196</td>\n",
              "      <td>negative</td>\n",
              "      <td>1.0000</td>\n",
              "      <td>Bad Flight</td>\n",
              "      <td>0.7033</td>\n",
              "      <td>Virgin America</td>\n",
              "      <td>NaN</td>\n",
              "      <td>jnardino</td>\n",
              "      <td>NaN</td>\n",
              "      <td>0</td>\n",
              "      <td>@VirginAmerica it's really aggressive to blast...</td>\n",
              "      <td>NaN</td>\n",
              "      <td>2015-02-24 11:15:36 -0800</td>\n",
              "      <td>NaN</td>\n",
              "      <td>Pacific Time (US &amp; Canada)</td>\n",
              "    </tr>\n",
              "    <tr>\n",
              "      <th>4</th>\n",
              "      <td>570300817074462722</td>\n",
              "      <td>negative</td>\n",
              "      <td>1.0000</td>\n",
              "      <td>Can't Tell</td>\n",
              "      <td>1.0000</td>\n",
              "      <td>Virgin America</td>\n",
              "      <td>NaN</td>\n",
              "      <td>jnardino</td>\n",
              "      <td>NaN</td>\n",
              "      <td>0</td>\n",
              "      <td>@VirginAmerica and it's a really big bad thing...</td>\n",
              "      <td>NaN</td>\n",
              "      <td>2015-02-24 11:14:45 -0800</td>\n",
              "      <td>NaN</td>\n",
              "      <td>Pacific Time (US &amp; Canada)</td>\n",
              "    </tr>\n",
              "  </tbody>\n",
              "</table>\n",
              "</div>\n",
              "      <button class=\"colab-df-convert\" onclick=\"convertToInteractive('df-59273875-35da-4eb0-bb15-3b71ada47427')\"\n",
              "              title=\"Convert this dataframe to an interactive table.\"\n",
              "              style=\"display:none;\">\n",
              "        \n",
              "  <svg xmlns=\"http://www.w3.org/2000/svg\" height=\"24px\"viewBox=\"0 0 24 24\"\n",
              "       width=\"24px\">\n",
              "    <path d=\"M0 0h24v24H0V0z\" fill=\"none\"/>\n",
              "    <path d=\"M18.56 5.44l.94 2.06.94-2.06 2.06-.94-2.06-.94-.94-2.06-.94 2.06-2.06.94zm-11 1L8.5 8.5l.94-2.06 2.06-.94-2.06-.94L8.5 2.5l-.94 2.06-2.06.94zm10 10l.94 2.06.94-2.06 2.06-.94-2.06-.94-.94-2.06-.94 2.06-2.06.94z\"/><path d=\"M17.41 7.96l-1.37-1.37c-.4-.4-.92-.59-1.43-.59-.52 0-1.04.2-1.43.59L10.3 9.45l-7.72 7.72c-.78.78-.78 2.05 0 2.83L4 21.41c.39.39.9.59 1.41.59.51 0 1.02-.2 1.41-.59l7.78-7.78 2.81-2.81c.8-.78.8-2.07 0-2.86zM5.41 20L4 18.59l7.72-7.72 1.47 1.35L5.41 20z\"/>\n",
              "  </svg>\n",
              "      </button>\n",
              "      \n",
              "  <style>\n",
              "    .colab-df-container {\n",
              "      display:flex;\n",
              "      flex-wrap:wrap;\n",
              "      gap: 12px;\n",
              "    }\n",
              "\n",
              "    .colab-df-convert {\n",
              "      background-color: #E8F0FE;\n",
              "      border: none;\n",
              "      border-radius: 50%;\n",
              "      cursor: pointer;\n",
              "      display: none;\n",
              "      fill: #1967D2;\n",
              "      height: 32px;\n",
              "      padding: 0 0 0 0;\n",
              "      width: 32px;\n",
              "    }\n",
              "\n",
              "    .colab-df-convert:hover {\n",
              "      background-color: #E2EBFA;\n",
              "      box-shadow: 0px 1px 2px rgba(60, 64, 67, 0.3), 0px 1px 3px 1px rgba(60, 64, 67, 0.15);\n",
              "      fill: #174EA6;\n",
              "    }\n",
              "\n",
              "    [theme=dark] .colab-df-convert {\n",
              "      background-color: #3B4455;\n",
              "      fill: #D2E3FC;\n",
              "    }\n",
              "\n",
              "    [theme=dark] .colab-df-convert:hover {\n",
              "      background-color: #434B5C;\n",
              "      box-shadow: 0px 1px 3px 1px rgba(0, 0, 0, 0.15);\n",
              "      filter: drop-shadow(0px 1px 2px rgba(0, 0, 0, 0.3));\n",
              "      fill: #FFFFFF;\n",
              "    }\n",
              "  </style>\n",
              "\n",
              "      <script>\n",
              "        const buttonEl =\n",
              "          document.querySelector('#df-59273875-35da-4eb0-bb15-3b71ada47427 button.colab-df-convert');\n",
              "        buttonEl.style.display =\n",
              "          google.colab.kernel.accessAllowed ? 'block' : 'none';\n",
              "\n",
              "        async function convertToInteractive(key) {\n",
              "          const element = document.querySelector('#df-59273875-35da-4eb0-bb15-3b71ada47427');\n",
              "          const dataTable =\n",
              "            await google.colab.kernel.invokeFunction('convertToInteractive',\n",
              "                                                     [key], {});\n",
              "          if (!dataTable) return;\n",
              "\n",
              "          const docLinkHtml = 'Like what you see? Visit the ' +\n",
              "            '<a target=\"_blank\" href=https://colab.research.google.com/notebooks/data_table.ipynb>data table notebook</a>'\n",
              "            + ' to learn more about interactive tables.';\n",
              "          element.innerHTML = '';\n",
              "          dataTable['output_type'] = 'display_data';\n",
              "          await google.colab.output.renderOutput(dataTable, element);\n",
              "          const docLink = document.createElement('div');\n",
              "          docLink.innerHTML = docLinkHtml;\n",
              "          element.appendChild(docLink);\n",
              "        }\n",
              "      </script>\n",
              "    </div>\n",
              "  </div>\n",
              "  "
            ]
          },
          "metadata": {},
          "execution_count": 4
        }
      ]
    },
    {
      "cell_type": "code",
      "source": [
        "df_raw.isna().sum()"
      ],
      "metadata": {
        "colab": {
          "base_uri": "https://localhost:8080/"
        },
        "id": "lkzGCjBJfF3t",
        "outputId": "3410f310-e421-43ab-94aa-e851a836fde5"
      },
      "execution_count": 5,
      "outputs": [
        {
          "output_type": "execute_result",
          "data": {
            "text/plain": [
              "tweet_id                            0\n",
              "airline_sentiment                   0\n",
              "airline_sentiment_confidence        0\n",
              "negativereason                   5462\n",
              "negativereason_confidence        4118\n",
              "airline                             0\n",
              "airline_sentiment_gold          14600\n",
              "name                                0\n",
              "negativereason_gold             14608\n",
              "retweet_count                       0\n",
              "text                                0\n",
              "tweet_coord                     13621\n",
              "tweet_created                       0\n",
              "tweet_location                   4733\n",
              "user_timezone                    4820\n",
              "dtype: int64"
            ]
          },
          "metadata": {},
          "execution_count": 5
        }
      ]
    },
    {
      "cell_type": "code",
      "source": [
        "df_raw['airline_sentiment'].value_counts()"
      ],
      "metadata": {
        "colab": {
          "base_uri": "https://localhost:8080/"
        },
        "id": "nWcpHhm9sz7n",
        "outputId": "32a43078-2ffe-41ca-de04-788808f97d5f"
      },
      "execution_count": 6,
      "outputs": [
        {
          "output_type": "execute_result",
          "data": {
            "text/plain": [
              "negative    9178\n",
              "neutral     3099\n",
              "positive    2363\n",
              "Name: airline_sentiment, dtype: int64"
            ]
          },
          "metadata": {},
          "execution_count": 6
        }
      ]
    },
    {
      "cell_type": "code",
      "source": [],
      "metadata": {
        "id": "-35jdnlWs_Hg"
      },
      "execution_count": 6,
      "outputs": []
    },
    {
      "cell_type": "code",
      "source": [
        "# df = df_raw.query(\"airline_sentiment != 'neutral'\")\n",
        "df_raw['airline_sentiment'].value_counts()"
      ],
      "metadata": {
        "colab": {
          "base_uri": "https://localhost:8080/"
        },
        "id": "1Hep11HZ_DLo",
        "outputId": "1a81ee0d-3ab3-4f7d-9c1c-8458c6d21bb4"
      },
      "execution_count": 7,
      "outputs": [
        {
          "output_type": "execute_result",
          "data": {
            "text/plain": [
              "negative    9178\n",
              "neutral     3099\n",
              "positive    2363\n",
              "Name: airline_sentiment, dtype: int64"
            ]
          },
          "metadata": {},
          "execution_count": 7
        }
      ]
    },
    {
      "cell_type": "code",
      "source": [
        "# df.isna().sum()"
      ],
      "metadata": {
        "id": "qfrxw1hjBQ6L"
      },
      "execution_count": 8,
      "outputs": []
    },
    {
      "cell_type": "code",
      "source": [
        "# df.info()"
      ],
      "metadata": {
        "id": "6QvK8S3vuHnr"
      },
      "execution_count": 9,
      "outputs": []
    },
    {
      "cell_type": "markdown",
      "source": [
        "## Preprocessing\n",
        "Preprocessing menggunakan library tweet-preprocessor [Tweet Preprocessor](https://pypi.org/project/tweet-preprocessor/)\n",
        "\n",
        "Preprocessing dilakukan pada coloumn \"text\". Preprocessing yang dilakukan adalah : \n",
        "* Hilangkan emoji \n",
        "* Hilangkan punctuation \n",
        "* Hilangkan URL \n",
        "* Lowercase\n",
        "\n",
        "gatau apakah remove NA dan liat aja yang di bagian sentimentnya perlu dibersihkan apa tidak"
      ],
      "metadata": {
        "id": "i4ok8Z8tGr_e"
      }
    },
    {
      "cell_type": "markdown",
      "source": [
        "## Cleaning\n",
        "Using \"clean\", for remove the mention, links etc"
      ],
      "metadata": {
        "id": "NzByN9LTKTIO"
      }
    },
    {
      "cell_type": "code",
      "source": [],
      "metadata": {
        "id": "cpRKHDMixChE"
      },
      "execution_count": 9,
      "outputs": []
    },
    {
      "cell_type": "code",
      "source": [
        "\n",
        "# forming for a separature feature for cleaned tweets\n",
        "for i,v in enumerate(df_raw['text']): \n",
        "  df_raw.loc[i, 'text_clean'] = p.clean(v) \n",
        "  # if i == 1 : \n",
        "  #   print(i)\n",
        "  #   print(v)\n",
        "\n",
        "df_raw[['text','text_clean']]"
      ],
      "metadata": {
        "colab": {
          "base_uri": "https://localhost:8080/",
          "height": 424
        },
        "id": "oM4tbiyAGzsu",
        "outputId": "09be0888-aea0-47be-881d-2f351ae48941"
      },
      "execution_count": 10,
      "outputs": [
        {
          "output_type": "execute_result",
          "data": {
            "text/plain": [
              "                                                    text  \\\n",
              "0                    @VirginAmerica What @dhepburn said.   \n",
              "1      @VirginAmerica plus you've added commercials t...   \n",
              "2      @VirginAmerica I didn't today... Must mean I n...   \n",
              "3      @VirginAmerica it's really aggressive to blast...   \n",
              "4      @VirginAmerica and it's a really big bad thing...   \n",
              "...                                                  ...   \n",
              "14635  @AmericanAir thank you we got on a different f...   \n",
              "14636  @AmericanAir leaving over 20 minutes Late Flig...   \n",
              "14637  @AmericanAir Please bring American Airlines to...   \n",
              "14638  @AmericanAir you have my money, you change my ...   \n",
              "14639  @AmericanAir we have 8 ppl so we need 2 know h...   \n",
              "\n",
              "                                              text_clean  \n",
              "0                                             What said.  \n",
              "1      plus you've added commercials to the experienc...  \n",
              "2      I didn't today... Must mean I need to take ano...  \n",
              "3      it's really aggressive to blast obnoxious \"ent...  \n",
              "4               and it's a really big bad thing about it  \n",
              "...                                                  ...  \n",
              "14635  thank you we got on a different flight to Chic...  \n",
              "14636  leaving over minutes Late Flight. No warnings ...  \n",
              "14637                  Please bring American Airlines to  \n",
              "14638  you have my money, you change my flight, and d...  \n",
              "14639  we have ppl so we need know how many seats are...  \n",
              "\n",
              "[14640 rows x 2 columns]"
            ],
            "text/html": [
              "\n",
              "  <div id=\"df-4ff2c39c-8721-4bb8-9bbb-80767310dd73\">\n",
              "    <div class=\"colab-df-container\">\n",
              "      <div>\n",
              "<style scoped>\n",
              "    .dataframe tbody tr th:only-of-type {\n",
              "        vertical-align: middle;\n",
              "    }\n",
              "\n",
              "    .dataframe tbody tr th {\n",
              "        vertical-align: top;\n",
              "    }\n",
              "\n",
              "    .dataframe thead th {\n",
              "        text-align: right;\n",
              "    }\n",
              "</style>\n",
              "<table border=\"1\" class=\"dataframe\">\n",
              "  <thead>\n",
              "    <tr style=\"text-align: right;\">\n",
              "      <th></th>\n",
              "      <th>text</th>\n",
              "      <th>text_clean</th>\n",
              "    </tr>\n",
              "  </thead>\n",
              "  <tbody>\n",
              "    <tr>\n",
              "      <th>0</th>\n",
              "      <td>@VirginAmerica What @dhepburn said.</td>\n",
              "      <td>What said.</td>\n",
              "    </tr>\n",
              "    <tr>\n",
              "      <th>1</th>\n",
              "      <td>@VirginAmerica plus you've added commercials t...</td>\n",
              "      <td>plus you've added commercials to the experienc...</td>\n",
              "    </tr>\n",
              "    <tr>\n",
              "      <th>2</th>\n",
              "      <td>@VirginAmerica I didn't today... Must mean I n...</td>\n",
              "      <td>I didn't today... Must mean I need to take ano...</td>\n",
              "    </tr>\n",
              "    <tr>\n",
              "      <th>3</th>\n",
              "      <td>@VirginAmerica it's really aggressive to blast...</td>\n",
              "      <td>it's really aggressive to blast obnoxious \"ent...</td>\n",
              "    </tr>\n",
              "    <tr>\n",
              "      <th>4</th>\n",
              "      <td>@VirginAmerica and it's a really big bad thing...</td>\n",
              "      <td>and it's a really big bad thing about it</td>\n",
              "    </tr>\n",
              "    <tr>\n",
              "      <th>...</th>\n",
              "      <td>...</td>\n",
              "      <td>...</td>\n",
              "    </tr>\n",
              "    <tr>\n",
              "      <th>14635</th>\n",
              "      <td>@AmericanAir thank you we got on a different f...</td>\n",
              "      <td>thank you we got on a different flight to Chic...</td>\n",
              "    </tr>\n",
              "    <tr>\n",
              "      <th>14636</th>\n",
              "      <td>@AmericanAir leaving over 20 minutes Late Flig...</td>\n",
              "      <td>leaving over minutes Late Flight. No warnings ...</td>\n",
              "    </tr>\n",
              "    <tr>\n",
              "      <th>14637</th>\n",
              "      <td>@AmericanAir Please bring American Airlines to...</td>\n",
              "      <td>Please bring American Airlines to</td>\n",
              "    </tr>\n",
              "    <tr>\n",
              "      <th>14638</th>\n",
              "      <td>@AmericanAir you have my money, you change my ...</td>\n",
              "      <td>you have my money, you change my flight, and d...</td>\n",
              "    </tr>\n",
              "    <tr>\n",
              "      <th>14639</th>\n",
              "      <td>@AmericanAir we have 8 ppl so we need 2 know h...</td>\n",
              "      <td>we have ppl so we need know how many seats are...</td>\n",
              "    </tr>\n",
              "  </tbody>\n",
              "</table>\n",
              "<p>14640 rows × 2 columns</p>\n",
              "</div>\n",
              "      <button class=\"colab-df-convert\" onclick=\"convertToInteractive('df-4ff2c39c-8721-4bb8-9bbb-80767310dd73')\"\n",
              "              title=\"Convert this dataframe to an interactive table.\"\n",
              "              style=\"display:none;\">\n",
              "        \n",
              "  <svg xmlns=\"http://www.w3.org/2000/svg\" height=\"24px\"viewBox=\"0 0 24 24\"\n",
              "       width=\"24px\">\n",
              "    <path d=\"M0 0h24v24H0V0z\" fill=\"none\"/>\n",
              "    <path d=\"M18.56 5.44l.94 2.06.94-2.06 2.06-.94-2.06-.94-.94-2.06-.94 2.06-2.06.94zm-11 1L8.5 8.5l.94-2.06 2.06-.94-2.06-.94L8.5 2.5l-.94 2.06-2.06.94zm10 10l.94 2.06.94-2.06 2.06-.94-2.06-.94-.94-2.06-.94 2.06-2.06.94z\"/><path d=\"M17.41 7.96l-1.37-1.37c-.4-.4-.92-.59-1.43-.59-.52 0-1.04.2-1.43.59L10.3 9.45l-7.72 7.72c-.78.78-.78 2.05 0 2.83L4 21.41c.39.39.9.59 1.41.59.51 0 1.02-.2 1.41-.59l7.78-7.78 2.81-2.81c.8-.78.8-2.07 0-2.86zM5.41 20L4 18.59l7.72-7.72 1.47 1.35L5.41 20z\"/>\n",
              "  </svg>\n",
              "      </button>\n",
              "      \n",
              "  <style>\n",
              "    .colab-df-container {\n",
              "      display:flex;\n",
              "      flex-wrap:wrap;\n",
              "      gap: 12px;\n",
              "    }\n",
              "\n",
              "    .colab-df-convert {\n",
              "      background-color: #E8F0FE;\n",
              "      border: none;\n",
              "      border-radius: 50%;\n",
              "      cursor: pointer;\n",
              "      display: none;\n",
              "      fill: #1967D2;\n",
              "      height: 32px;\n",
              "      padding: 0 0 0 0;\n",
              "      width: 32px;\n",
              "    }\n",
              "\n",
              "    .colab-df-convert:hover {\n",
              "      background-color: #E2EBFA;\n",
              "      box-shadow: 0px 1px 2px rgba(60, 64, 67, 0.3), 0px 1px 3px 1px rgba(60, 64, 67, 0.15);\n",
              "      fill: #174EA6;\n",
              "    }\n",
              "\n",
              "    [theme=dark] .colab-df-convert {\n",
              "      background-color: #3B4455;\n",
              "      fill: #D2E3FC;\n",
              "    }\n",
              "\n",
              "    [theme=dark] .colab-df-convert:hover {\n",
              "      background-color: #434B5C;\n",
              "      box-shadow: 0px 1px 3px 1px rgba(0, 0, 0, 0.15);\n",
              "      filter: drop-shadow(0px 1px 2px rgba(0, 0, 0, 0.3));\n",
              "      fill: #FFFFFF;\n",
              "    }\n",
              "  </style>\n",
              "\n",
              "      <script>\n",
              "        const buttonEl =\n",
              "          document.querySelector('#df-4ff2c39c-8721-4bb8-9bbb-80767310dd73 button.colab-df-convert');\n",
              "        buttonEl.style.display =\n",
              "          google.colab.kernel.accessAllowed ? 'block' : 'none';\n",
              "\n",
              "        async function convertToInteractive(key) {\n",
              "          const element = document.querySelector('#df-4ff2c39c-8721-4bb8-9bbb-80767310dd73');\n",
              "          const dataTable =\n",
              "            await google.colab.kernel.invokeFunction('convertToInteractive',\n",
              "                                                     [key], {});\n",
              "          if (!dataTable) return;\n",
              "\n",
              "          const docLinkHtml = 'Like what you see? Visit the ' +\n",
              "            '<a target=\"_blank\" href=https://colab.research.google.com/notebooks/data_table.ipynb>data table notebook</a>'\n",
              "            + ' to learn more about interactive tables.';\n",
              "          element.innerHTML = '';\n",
              "          dataTable['output_type'] = 'display_data';\n",
              "          await google.colab.output.renderOutput(dataTable, element);\n",
              "          const docLink = document.createElement('div');\n",
              "          docLink.innerHTML = docLinkHtml;\n",
              "          element.appendChild(docLink);\n",
              "        }\n",
              "      </script>\n",
              "    </div>\n",
              "  </div>\n",
              "  "
            ]
          },
          "metadata": {},
          "execution_count": 10
        }
      ]
    },
    {
      "cell_type": "code",
      "source": [
        "df_raw.isna().sum()"
      ],
      "metadata": {
        "colab": {
          "base_uri": "https://localhost:8080/"
        },
        "id": "uHhNesS3BuP9",
        "outputId": "6aba6540-6a46-4a43-ef51-18429e4f8f4d"
      },
      "execution_count": 11,
      "outputs": [
        {
          "output_type": "execute_result",
          "data": {
            "text/plain": [
              "tweet_id                            0\n",
              "airline_sentiment                   0\n",
              "airline_sentiment_confidence        0\n",
              "negativereason                   5462\n",
              "negativereason_confidence        4118\n",
              "airline                             0\n",
              "airline_sentiment_gold          14600\n",
              "name                                0\n",
              "negativereason_gold             14608\n",
              "retweet_count                       0\n",
              "text                                0\n",
              "tweet_coord                     13621\n",
              "tweet_created                       0\n",
              "tweet_location                   4733\n",
              "user_timezone                    4820\n",
              "text_clean                          0\n",
              "dtype: int64"
            ]
          },
          "metadata": {},
          "execution_count": 11
        }
      ]
    },
    {
      "cell_type": "code",
      "source": [
        "# df = df.dropna(subset = ['airline_sentiment', 'text', 'text_clean'])\n",
        "# df.isna().sum()"
      ],
      "metadata": {
        "id": "8lo3z-zkDKvj"
      },
      "execution_count": 12,
      "outputs": []
    },
    {
      "cell_type": "markdown",
      "source": [
        "## Lowercase"
      ],
      "metadata": {
        "id": "0hUGsqIYKRTa"
      }
    },
    {
      "cell_type": "code",
      "source": [
        "df_raw['text_clean'] = df_raw['text_clean'].apply(str.lower)\n",
        "df_raw[['text','text_clean']]"
      ],
      "metadata": {
        "colab": {
          "base_uri": "https://localhost:8080/",
          "height": 424
        },
        "id": "apMMZW41Kg4R",
        "outputId": "66b96a3c-17fc-44c2-88b4-0feca3aa6a50"
      },
      "execution_count": 13,
      "outputs": [
        {
          "output_type": "execute_result",
          "data": {
            "text/plain": [
              "                                                    text  \\\n",
              "0                    @VirginAmerica What @dhepburn said.   \n",
              "1      @VirginAmerica plus you've added commercials t...   \n",
              "2      @VirginAmerica I didn't today... Must mean I n...   \n",
              "3      @VirginAmerica it's really aggressive to blast...   \n",
              "4      @VirginAmerica and it's a really big bad thing...   \n",
              "...                                                  ...   \n",
              "14635  @AmericanAir thank you we got on a different f...   \n",
              "14636  @AmericanAir leaving over 20 minutes Late Flig...   \n",
              "14637  @AmericanAir Please bring American Airlines to...   \n",
              "14638  @AmericanAir you have my money, you change my ...   \n",
              "14639  @AmericanAir we have 8 ppl so we need 2 know h...   \n",
              "\n",
              "                                              text_clean  \n",
              "0                                             what said.  \n",
              "1      plus you've added commercials to the experienc...  \n",
              "2      i didn't today... must mean i need to take ano...  \n",
              "3      it's really aggressive to blast obnoxious \"ent...  \n",
              "4               and it's a really big bad thing about it  \n",
              "...                                                  ...  \n",
              "14635  thank you we got on a different flight to chic...  \n",
              "14636  leaving over minutes late flight. no warnings ...  \n",
              "14637                  please bring american airlines to  \n",
              "14638  you have my money, you change my flight, and d...  \n",
              "14639  we have ppl so we need know how many seats are...  \n",
              "\n",
              "[14640 rows x 2 columns]"
            ],
            "text/html": [
              "\n",
              "  <div id=\"df-1c0928a0-3be7-4268-a7c9-5ad949357a7b\">\n",
              "    <div class=\"colab-df-container\">\n",
              "      <div>\n",
              "<style scoped>\n",
              "    .dataframe tbody tr th:only-of-type {\n",
              "        vertical-align: middle;\n",
              "    }\n",
              "\n",
              "    .dataframe tbody tr th {\n",
              "        vertical-align: top;\n",
              "    }\n",
              "\n",
              "    .dataframe thead th {\n",
              "        text-align: right;\n",
              "    }\n",
              "</style>\n",
              "<table border=\"1\" class=\"dataframe\">\n",
              "  <thead>\n",
              "    <tr style=\"text-align: right;\">\n",
              "      <th></th>\n",
              "      <th>text</th>\n",
              "      <th>text_clean</th>\n",
              "    </tr>\n",
              "  </thead>\n",
              "  <tbody>\n",
              "    <tr>\n",
              "      <th>0</th>\n",
              "      <td>@VirginAmerica What @dhepburn said.</td>\n",
              "      <td>what said.</td>\n",
              "    </tr>\n",
              "    <tr>\n",
              "      <th>1</th>\n",
              "      <td>@VirginAmerica plus you've added commercials t...</td>\n",
              "      <td>plus you've added commercials to the experienc...</td>\n",
              "    </tr>\n",
              "    <tr>\n",
              "      <th>2</th>\n",
              "      <td>@VirginAmerica I didn't today... Must mean I n...</td>\n",
              "      <td>i didn't today... must mean i need to take ano...</td>\n",
              "    </tr>\n",
              "    <tr>\n",
              "      <th>3</th>\n",
              "      <td>@VirginAmerica it's really aggressive to blast...</td>\n",
              "      <td>it's really aggressive to blast obnoxious \"ent...</td>\n",
              "    </tr>\n",
              "    <tr>\n",
              "      <th>4</th>\n",
              "      <td>@VirginAmerica and it's a really big bad thing...</td>\n",
              "      <td>and it's a really big bad thing about it</td>\n",
              "    </tr>\n",
              "    <tr>\n",
              "      <th>...</th>\n",
              "      <td>...</td>\n",
              "      <td>...</td>\n",
              "    </tr>\n",
              "    <tr>\n",
              "      <th>14635</th>\n",
              "      <td>@AmericanAir thank you we got on a different f...</td>\n",
              "      <td>thank you we got on a different flight to chic...</td>\n",
              "    </tr>\n",
              "    <tr>\n",
              "      <th>14636</th>\n",
              "      <td>@AmericanAir leaving over 20 minutes Late Flig...</td>\n",
              "      <td>leaving over minutes late flight. no warnings ...</td>\n",
              "    </tr>\n",
              "    <tr>\n",
              "      <th>14637</th>\n",
              "      <td>@AmericanAir Please bring American Airlines to...</td>\n",
              "      <td>please bring american airlines to</td>\n",
              "    </tr>\n",
              "    <tr>\n",
              "      <th>14638</th>\n",
              "      <td>@AmericanAir you have my money, you change my ...</td>\n",
              "      <td>you have my money, you change my flight, and d...</td>\n",
              "    </tr>\n",
              "    <tr>\n",
              "      <th>14639</th>\n",
              "      <td>@AmericanAir we have 8 ppl so we need 2 know h...</td>\n",
              "      <td>we have ppl so we need know how many seats are...</td>\n",
              "    </tr>\n",
              "  </tbody>\n",
              "</table>\n",
              "<p>14640 rows × 2 columns</p>\n",
              "</div>\n",
              "      <button class=\"colab-df-convert\" onclick=\"convertToInteractive('df-1c0928a0-3be7-4268-a7c9-5ad949357a7b')\"\n",
              "              title=\"Convert this dataframe to an interactive table.\"\n",
              "              style=\"display:none;\">\n",
              "        \n",
              "  <svg xmlns=\"http://www.w3.org/2000/svg\" height=\"24px\"viewBox=\"0 0 24 24\"\n",
              "       width=\"24px\">\n",
              "    <path d=\"M0 0h24v24H0V0z\" fill=\"none\"/>\n",
              "    <path d=\"M18.56 5.44l.94 2.06.94-2.06 2.06-.94-2.06-.94-.94-2.06-.94 2.06-2.06.94zm-11 1L8.5 8.5l.94-2.06 2.06-.94-2.06-.94L8.5 2.5l-.94 2.06-2.06.94zm10 10l.94 2.06.94-2.06 2.06-.94-2.06-.94-.94-2.06-.94 2.06-2.06.94z\"/><path d=\"M17.41 7.96l-1.37-1.37c-.4-.4-.92-.59-1.43-.59-.52 0-1.04.2-1.43.59L10.3 9.45l-7.72 7.72c-.78.78-.78 2.05 0 2.83L4 21.41c.39.39.9.59 1.41.59.51 0 1.02-.2 1.41-.59l7.78-7.78 2.81-2.81c.8-.78.8-2.07 0-2.86zM5.41 20L4 18.59l7.72-7.72 1.47 1.35L5.41 20z\"/>\n",
              "  </svg>\n",
              "      </button>\n",
              "      \n",
              "  <style>\n",
              "    .colab-df-container {\n",
              "      display:flex;\n",
              "      flex-wrap:wrap;\n",
              "      gap: 12px;\n",
              "    }\n",
              "\n",
              "    .colab-df-convert {\n",
              "      background-color: #E8F0FE;\n",
              "      border: none;\n",
              "      border-radius: 50%;\n",
              "      cursor: pointer;\n",
              "      display: none;\n",
              "      fill: #1967D2;\n",
              "      height: 32px;\n",
              "      padding: 0 0 0 0;\n",
              "      width: 32px;\n",
              "    }\n",
              "\n",
              "    .colab-df-convert:hover {\n",
              "      background-color: #E2EBFA;\n",
              "      box-shadow: 0px 1px 2px rgba(60, 64, 67, 0.3), 0px 1px 3px 1px rgba(60, 64, 67, 0.15);\n",
              "      fill: #174EA6;\n",
              "    }\n",
              "\n",
              "    [theme=dark] .colab-df-convert {\n",
              "      background-color: #3B4455;\n",
              "      fill: #D2E3FC;\n",
              "    }\n",
              "\n",
              "    [theme=dark] .colab-df-convert:hover {\n",
              "      background-color: #434B5C;\n",
              "      box-shadow: 0px 1px 3px 1px rgba(0, 0, 0, 0.15);\n",
              "      filter: drop-shadow(0px 1px 2px rgba(0, 0, 0, 0.3));\n",
              "      fill: #FFFFFF;\n",
              "    }\n",
              "  </style>\n",
              "\n",
              "      <script>\n",
              "        const buttonEl =\n",
              "          document.querySelector('#df-1c0928a0-3be7-4268-a7c9-5ad949357a7b button.colab-df-convert');\n",
              "        buttonEl.style.display =\n",
              "          google.colab.kernel.accessAllowed ? 'block' : 'none';\n",
              "\n",
              "        async function convertToInteractive(key) {\n",
              "          const element = document.querySelector('#df-1c0928a0-3be7-4268-a7c9-5ad949357a7b');\n",
              "          const dataTable =\n",
              "            await google.colab.kernel.invokeFunction('convertToInteractive',\n",
              "                                                     [key], {});\n",
              "          if (!dataTable) return;\n",
              "\n",
              "          const docLinkHtml = 'Like what you see? Visit the ' +\n",
              "            '<a target=\"_blank\" href=https://colab.research.google.com/notebooks/data_table.ipynb>data table notebook</a>'\n",
              "            + ' to learn more about interactive tables.';\n",
              "          element.innerHTML = '';\n",
              "          dataTable['output_type'] = 'display_data';\n",
              "          await google.colab.output.renderOutput(dataTable, element);\n",
              "          const docLink = document.createElement('div');\n",
              "          docLink.innerHTML = docLinkHtml;\n",
              "          element.appendChild(docLink);\n",
              "        }\n",
              "      </script>\n",
              "    </div>\n",
              "  </div>\n",
              "  "
            ]
          },
          "metadata": {},
          "execution_count": 13
        }
      ]
    },
    {
      "cell_type": "markdown",
      "source": [
        "## Remove Punctuation"
      ],
      "metadata": {
        "id": "QPqtCyvqKtP0"
      }
    },
    {
      "cell_type": "code",
      "source": [
        "df_raw['text_clean'] = df_raw['text_clean'].apply(lambda x : re.sub(r'[^\\w\\s]','',x))\n",
        "df_raw[['text','text_clean']]"
      ],
      "metadata": {
        "colab": {
          "base_uri": "https://localhost:8080/",
          "height": 424
        },
        "id": "B6c25RwVKvu7",
        "outputId": "dbbb0c56-01e0-479a-d318-1852d2848c50"
      },
      "execution_count": 14,
      "outputs": [
        {
          "output_type": "execute_result",
          "data": {
            "text/plain": [
              "                                                    text  \\\n",
              "0                    @VirginAmerica What @dhepburn said.   \n",
              "1      @VirginAmerica plus you've added commercials t...   \n",
              "2      @VirginAmerica I didn't today... Must mean I n...   \n",
              "3      @VirginAmerica it's really aggressive to blast...   \n",
              "4      @VirginAmerica and it's a really big bad thing...   \n",
              "...                                                  ...   \n",
              "14635  @AmericanAir thank you we got on a different f...   \n",
              "14636  @AmericanAir leaving over 20 minutes Late Flig...   \n",
              "14637  @AmericanAir Please bring American Airlines to...   \n",
              "14638  @AmericanAir you have my money, you change my ...   \n",
              "14639  @AmericanAir we have 8 ppl so we need 2 know h...   \n",
              "\n",
              "                                              text_clean  \n",
              "0                                              what said  \n",
              "1      plus youve added commercials to the experience...  \n",
              "2      i didnt today must mean i need to take another...  \n",
              "3      its really aggressive to blast obnoxious enter...  \n",
              "4                and its a really big bad thing about it  \n",
              "...                                                  ...  \n",
              "14635  thank you we got on a different flight to chicago  \n",
              "14636  leaving over minutes late flight no warnings o...  \n",
              "14637                  please bring american airlines to  \n",
              "14638  you have my money you change my flight and don...  \n",
              "14639  we have ppl so we need know how many seats are...  \n",
              "\n",
              "[14640 rows x 2 columns]"
            ],
            "text/html": [
              "\n",
              "  <div id=\"df-59638db7-fbc0-42de-ad4d-cde80d0793c2\">\n",
              "    <div class=\"colab-df-container\">\n",
              "      <div>\n",
              "<style scoped>\n",
              "    .dataframe tbody tr th:only-of-type {\n",
              "        vertical-align: middle;\n",
              "    }\n",
              "\n",
              "    .dataframe tbody tr th {\n",
              "        vertical-align: top;\n",
              "    }\n",
              "\n",
              "    .dataframe thead th {\n",
              "        text-align: right;\n",
              "    }\n",
              "</style>\n",
              "<table border=\"1\" class=\"dataframe\">\n",
              "  <thead>\n",
              "    <tr style=\"text-align: right;\">\n",
              "      <th></th>\n",
              "      <th>text</th>\n",
              "      <th>text_clean</th>\n",
              "    </tr>\n",
              "  </thead>\n",
              "  <tbody>\n",
              "    <tr>\n",
              "      <th>0</th>\n",
              "      <td>@VirginAmerica What @dhepburn said.</td>\n",
              "      <td>what said</td>\n",
              "    </tr>\n",
              "    <tr>\n",
              "      <th>1</th>\n",
              "      <td>@VirginAmerica plus you've added commercials t...</td>\n",
              "      <td>plus youve added commercials to the experience...</td>\n",
              "    </tr>\n",
              "    <tr>\n",
              "      <th>2</th>\n",
              "      <td>@VirginAmerica I didn't today... Must mean I n...</td>\n",
              "      <td>i didnt today must mean i need to take another...</td>\n",
              "    </tr>\n",
              "    <tr>\n",
              "      <th>3</th>\n",
              "      <td>@VirginAmerica it's really aggressive to blast...</td>\n",
              "      <td>its really aggressive to blast obnoxious enter...</td>\n",
              "    </tr>\n",
              "    <tr>\n",
              "      <th>4</th>\n",
              "      <td>@VirginAmerica and it's a really big bad thing...</td>\n",
              "      <td>and its a really big bad thing about it</td>\n",
              "    </tr>\n",
              "    <tr>\n",
              "      <th>...</th>\n",
              "      <td>...</td>\n",
              "      <td>...</td>\n",
              "    </tr>\n",
              "    <tr>\n",
              "      <th>14635</th>\n",
              "      <td>@AmericanAir thank you we got on a different f...</td>\n",
              "      <td>thank you we got on a different flight to chicago</td>\n",
              "    </tr>\n",
              "    <tr>\n",
              "      <th>14636</th>\n",
              "      <td>@AmericanAir leaving over 20 minutes Late Flig...</td>\n",
              "      <td>leaving over minutes late flight no warnings o...</td>\n",
              "    </tr>\n",
              "    <tr>\n",
              "      <th>14637</th>\n",
              "      <td>@AmericanAir Please bring American Airlines to...</td>\n",
              "      <td>please bring american airlines to</td>\n",
              "    </tr>\n",
              "    <tr>\n",
              "      <th>14638</th>\n",
              "      <td>@AmericanAir you have my money, you change my ...</td>\n",
              "      <td>you have my money you change my flight and don...</td>\n",
              "    </tr>\n",
              "    <tr>\n",
              "      <th>14639</th>\n",
              "      <td>@AmericanAir we have 8 ppl so we need 2 know h...</td>\n",
              "      <td>we have ppl so we need know how many seats are...</td>\n",
              "    </tr>\n",
              "  </tbody>\n",
              "</table>\n",
              "<p>14640 rows × 2 columns</p>\n",
              "</div>\n",
              "      <button class=\"colab-df-convert\" onclick=\"convertToInteractive('df-59638db7-fbc0-42de-ad4d-cde80d0793c2')\"\n",
              "              title=\"Convert this dataframe to an interactive table.\"\n",
              "              style=\"display:none;\">\n",
              "        \n",
              "  <svg xmlns=\"http://www.w3.org/2000/svg\" height=\"24px\"viewBox=\"0 0 24 24\"\n",
              "       width=\"24px\">\n",
              "    <path d=\"M0 0h24v24H0V0z\" fill=\"none\"/>\n",
              "    <path d=\"M18.56 5.44l.94 2.06.94-2.06 2.06-.94-2.06-.94-.94-2.06-.94 2.06-2.06.94zm-11 1L8.5 8.5l.94-2.06 2.06-.94-2.06-.94L8.5 2.5l-.94 2.06-2.06.94zm10 10l.94 2.06.94-2.06 2.06-.94-2.06-.94-.94-2.06-.94 2.06-2.06.94z\"/><path d=\"M17.41 7.96l-1.37-1.37c-.4-.4-.92-.59-1.43-.59-.52 0-1.04.2-1.43.59L10.3 9.45l-7.72 7.72c-.78.78-.78 2.05 0 2.83L4 21.41c.39.39.9.59 1.41.59.51 0 1.02-.2 1.41-.59l7.78-7.78 2.81-2.81c.8-.78.8-2.07 0-2.86zM5.41 20L4 18.59l7.72-7.72 1.47 1.35L5.41 20z\"/>\n",
              "  </svg>\n",
              "      </button>\n",
              "      \n",
              "  <style>\n",
              "    .colab-df-container {\n",
              "      display:flex;\n",
              "      flex-wrap:wrap;\n",
              "      gap: 12px;\n",
              "    }\n",
              "\n",
              "    .colab-df-convert {\n",
              "      background-color: #E8F0FE;\n",
              "      border: none;\n",
              "      border-radius: 50%;\n",
              "      cursor: pointer;\n",
              "      display: none;\n",
              "      fill: #1967D2;\n",
              "      height: 32px;\n",
              "      padding: 0 0 0 0;\n",
              "      width: 32px;\n",
              "    }\n",
              "\n",
              "    .colab-df-convert:hover {\n",
              "      background-color: #E2EBFA;\n",
              "      box-shadow: 0px 1px 2px rgba(60, 64, 67, 0.3), 0px 1px 3px 1px rgba(60, 64, 67, 0.15);\n",
              "      fill: #174EA6;\n",
              "    }\n",
              "\n",
              "    [theme=dark] .colab-df-convert {\n",
              "      background-color: #3B4455;\n",
              "      fill: #D2E3FC;\n",
              "    }\n",
              "\n",
              "    [theme=dark] .colab-df-convert:hover {\n",
              "      background-color: #434B5C;\n",
              "      box-shadow: 0px 1px 3px 1px rgba(0, 0, 0, 0.15);\n",
              "      filter: drop-shadow(0px 1px 2px rgba(0, 0, 0, 0.3));\n",
              "      fill: #FFFFFF;\n",
              "    }\n",
              "  </style>\n",
              "\n",
              "      <script>\n",
              "        const buttonEl =\n",
              "          document.querySelector('#df-59638db7-fbc0-42de-ad4d-cde80d0793c2 button.colab-df-convert');\n",
              "        buttonEl.style.display =\n",
              "          google.colab.kernel.accessAllowed ? 'block' : 'none';\n",
              "\n",
              "        async function convertToInteractive(key) {\n",
              "          const element = document.querySelector('#df-59638db7-fbc0-42de-ad4d-cde80d0793c2');\n",
              "          const dataTable =\n",
              "            await google.colab.kernel.invokeFunction('convertToInteractive',\n",
              "                                                     [key], {});\n",
              "          if (!dataTable) return;\n",
              "\n",
              "          const docLinkHtml = 'Like what you see? Visit the ' +\n",
              "            '<a target=\"_blank\" href=https://colab.research.google.com/notebooks/data_table.ipynb>data table notebook</a>'\n",
              "            + ' to learn more about interactive tables.';\n",
              "          element.innerHTML = '';\n",
              "          dataTable['output_type'] = 'display_data';\n",
              "          await google.colab.output.renderOutput(dataTable, element);\n",
              "          const docLink = document.createElement('div');\n",
              "          docLink.innerHTML = docLinkHtml;\n",
              "          element.appendChild(docLink);\n",
              "        }\n",
              "      </script>\n",
              "    </div>\n",
              "  </div>\n",
              "  "
            ]
          },
          "metadata": {},
          "execution_count": 14
        }
      ]
    },
    {
      "cell_type": "markdown",
      "source": [
        "## Coloumn Selection \n",
        "Gunakan Kolom \"text_clean\" dan \"airline_sentiment\" sebagai input"
      ],
      "metadata": {
        "id": "hvUsKx2vLGlX"
      }
    },
    {
      "cell_type": "code",
      "source": [
        "tweets = df_raw[[\"text_clean\", \"airline_sentiment\"]]\n",
        "tweets = tweets.query(\"airline_sentiment != 'neutral'\")\n",
        "tweets.head()"
      ],
      "metadata": {
        "colab": {
          "base_uri": "https://localhost:8080/",
          "height": 206
        },
        "id": "p8fc4uvKLMp3",
        "outputId": "84a54f19-d5f2-4700-cd8e-e4aa09b9e8b2"
      },
      "execution_count": 15,
      "outputs": [
        {
          "output_type": "execute_result",
          "data": {
            "text/plain": [
              "                                          text_clean airline_sentiment\n",
              "1  plus youve added commercials to the experience...          positive\n",
              "3  its really aggressive to blast obnoxious enter...          negative\n",
              "4            and its a really big bad thing about it          negative\n",
              "5  seriously would pay 30 a flight for seats that...          negative\n",
              "6  yes nearly every time i fly vx this ear worm w...          positive"
            ],
            "text/html": [
              "\n",
              "  <div id=\"df-e4686067-1f2f-431d-947d-3039e676ae98\">\n",
              "    <div class=\"colab-df-container\">\n",
              "      <div>\n",
              "<style scoped>\n",
              "    .dataframe tbody tr th:only-of-type {\n",
              "        vertical-align: middle;\n",
              "    }\n",
              "\n",
              "    .dataframe tbody tr th {\n",
              "        vertical-align: top;\n",
              "    }\n",
              "\n",
              "    .dataframe thead th {\n",
              "        text-align: right;\n",
              "    }\n",
              "</style>\n",
              "<table border=\"1\" class=\"dataframe\">\n",
              "  <thead>\n",
              "    <tr style=\"text-align: right;\">\n",
              "      <th></th>\n",
              "      <th>text_clean</th>\n",
              "      <th>airline_sentiment</th>\n",
              "    </tr>\n",
              "  </thead>\n",
              "  <tbody>\n",
              "    <tr>\n",
              "      <th>1</th>\n",
              "      <td>plus youve added commercials to the experience...</td>\n",
              "      <td>positive</td>\n",
              "    </tr>\n",
              "    <tr>\n",
              "      <th>3</th>\n",
              "      <td>its really aggressive to blast obnoxious enter...</td>\n",
              "      <td>negative</td>\n",
              "    </tr>\n",
              "    <tr>\n",
              "      <th>4</th>\n",
              "      <td>and its a really big bad thing about it</td>\n",
              "      <td>negative</td>\n",
              "    </tr>\n",
              "    <tr>\n",
              "      <th>5</th>\n",
              "      <td>seriously would pay 30 a flight for seats that...</td>\n",
              "      <td>negative</td>\n",
              "    </tr>\n",
              "    <tr>\n",
              "      <th>6</th>\n",
              "      <td>yes nearly every time i fly vx this ear worm w...</td>\n",
              "      <td>positive</td>\n",
              "    </tr>\n",
              "  </tbody>\n",
              "</table>\n",
              "</div>\n",
              "      <button class=\"colab-df-convert\" onclick=\"convertToInteractive('df-e4686067-1f2f-431d-947d-3039e676ae98')\"\n",
              "              title=\"Convert this dataframe to an interactive table.\"\n",
              "              style=\"display:none;\">\n",
              "        \n",
              "  <svg xmlns=\"http://www.w3.org/2000/svg\" height=\"24px\"viewBox=\"0 0 24 24\"\n",
              "       width=\"24px\">\n",
              "    <path d=\"M0 0h24v24H0V0z\" fill=\"none\"/>\n",
              "    <path d=\"M18.56 5.44l.94 2.06.94-2.06 2.06-.94-2.06-.94-.94-2.06-.94 2.06-2.06.94zm-11 1L8.5 8.5l.94-2.06 2.06-.94-2.06-.94L8.5 2.5l-.94 2.06-2.06.94zm10 10l.94 2.06.94-2.06 2.06-.94-2.06-.94-.94-2.06-.94 2.06-2.06.94z\"/><path d=\"M17.41 7.96l-1.37-1.37c-.4-.4-.92-.59-1.43-.59-.52 0-1.04.2-1.43.59L10.3 9.45l-7.72 7.72c-.78.78-.78 2.05 0 2.83L4 21.41c.39.39.9.59 1.41.59.51 0 1.02-.2 1.41-.59l7.78-7.78 2.81-2.81c.8-.78.8-2.07 0-2.86zM5.41 20L4 18.59l7.72-7.72 1.47 1.35L5.41 20z\"/>\n",
              "  </svg>\n",
              "      </button>\n",
              "      \n",
              "  <style>\n",
              "    .colab-df-container {\n",
              "      display:flex;\n",
              "      flex-wrap:wrap;\n",
              "      gap: 12px;\n",
              "    }\n",
              "\n",
              "    .colab-df-convert {\n",
              "      background-color: #E8F0FE;\n",
              "      border: none;\n",
              "      border-radius: 50%;\n",
              "      cursor: pointer;\n",
              "      display: none;\n",
              "      fill: #1967D2;\n",
              "      height: 32px;\n",
              "      padding: 0 0 0 0;\n",
              "      width: 32px;\n",
              "    }\n",
              "\n",
              "    .colab-df-convert:hover {\n",
              "      background-color: #E2EBFA;\n",
              "      box-shadow: 0px 1px 2px rgba(60, 64, 67, 0.3), 0px 1px 3px 1px rgba(60, 64, 67, 0.15);\n",
              "      fill: #174EA6;\n",
              "    }\n",
              "\n",
              "    [theme=dark] .colab-df-convert {\n",
              "      background-color: #3B4455;\n",
              "      fill: #D2E3FC;\n",
              "    }\n",
              "\n",
              "    [theme=dark] .colab-df-convert:hover {\n",
              "      background-color: #434B5C;\n",
              "      box-shadow: 0px 1px 3px 1px rgba(0, 0, 0, 0.15);\n",
              "      filter: drop-shadow(0px 1px 2px rgba(0, 0, 0, 0.3));\n",
              "      fill: #FFFFFF;\n",
              "    }\n",
              "  </style>\n",
              "\n",
              "      <script>\n",
              "        const buttonEl =\n",
              "          document.querySelector('#df-e4686067-1f2f-431d-947d-3039e676ae98 button.colab-df-convert');\n",
              "        buttonEl.style.display =\n",
              "          google.colab.kernel.accessAllowed ? 'block' : 'none';\n",
              "\n",
              "        async function convertToInteractive(key) {\n",
              "          const element = document.querySelector('#df-e4686067-1f2f-431d-947d-3039e676ae98');\n",
              "          const dataTable =\n",
              "            await google.colab.kernel.invokeFunction('convertToInteractive',\n",
              "                                                     [key], {});\n",
              "          if (!dataTable) return;\n",
              "\n",
              "          const docLinkHtml = 'Like what you see? Visit the ' +\n",
              "            '<a target=\"_blank\" href=https://colab.research.google.com/notebooks/data_table.ipynb>data table notebook</a>'\n",
              "            + ' to learn more about interactive tables.';\n",
              "          element.innerHTML = '';\n",
              "          dataTable['output_type'] = 'display_data';\n",
              "          await google.colab.output.renderOutput(dataTable, element);\n",
              "          const docLink = document.createElement('div');\n",
              "          docLink.innerHTML = docLinkHtml;\n",
              "          element.appendChild(docLink);\n",
              "        }\n",
              "      </script>\n",
              "    </div>\n",
              "  </div>\n",
              "  "
            ]
          },
          "metadata": {},
          "execution_count": 15
        }
      ]
    },
    {
      "cell_type": "code",
      "source": [
        "tweets['airline_sentiment'].value_counts()"
      ],
      "metadata": {
        "colab": {
          "base_uri": "https://localhost:8080/"
        },
        "id": "Fmv0j5D1xlYm",
        "outputId": "99345560-7ea1-42e7-b67f-a068d91a15f2"
      },
      "execution_count": 16,
      "outputs": [
        {
          "output_type": "execute_result",
          "data": {
            "text/plain": [
              "negative    9178\n",
              "positive    2363\n",
              "Name: airline_sentiment, dtype: int64"
            ]
          },
          "metadata": {},
          "execution_count": 16
        }
      ]
    },
    {
      "cell_type": "code",
      "source": [
        "tweets.isna().sum()"
      ],
      "metadata": {
        "id": "o1QyAshJEaPJ",
        "outputId": "df484474-f3fe-44f7-889a-8d75f08b138b",
        "colab": {
          "base_uri": "https://localhost:8080/"
        }
      },
      "execution_count": 17,
      "outputs": [
        {
          "output_type": "execute_result",
          "data": {
            "text/plain": [
              "text_clean           0\n",
              "airline_sentiment    0\n",
              "dtype: int64"
            ]
          },
          "metadata": {},
          "execution_count": 17
        }
      ]
    },
    {
      "cell_type": "markdown",
      "source": [
        "## Split Data\n",
        "Split data set dengan rincian sebagai berikut \n",
        "* 80%  : Training Set \n",
        "* 10%  : Validation Set\n",
        "* 10%  : Testing Set\n",
        "\n",
        "Seed = 43"
      ],
      "metadata": {
        "id": "KhYWJzQiLczo"
      }
    },
    {
      "cell_type": "markdown",
      "source": [
        "### Set Seed"
      ],
      "metadata": {
        "id": "4Zosy8zuLrOc"
      }
    },
    {
      "cell_type": "code",
      "source": [
        "import torch \n",
        "import torchvision\n",
        "import torchvision.transforms as transforms\n",
        "import numpy as np\n",
        "import random\n",
        "torch.manual_seed(43)"
      ],
      "metadata": {
        "id": "ARedlxcJMVju",
        "colab": {
          "base_uri": "https://localhost:8080/"
        },
        "outputId": "37cf8588-d472-4844-d7ad-def6a7a2eedc"
      },
      "execution_count": 18,
      "outputs": [
        {
          "output_type": "execute_result",
          "data": {
            "text/plain": [
              "<torch._C.Generator at 0x7f44546750b0>"
            ]
          },
          "metadata": {},
          "execution_count": 18
        }
      ]
    },
    {
      "cell_type": "code",
      "source": [
        "def seed_all(seed):\n",
        "    if not seed:\n",
        "        seed = 43\n",
        "\n",
        "    print(\"[ Using Seed : \", seed, \" ]\")\n",
        "\n",
        "    torch.manual_seed(seed)\n",
        "    torch.cuda.manual_seed_all(seed)\n",
        "    torch.cuda.manual_seed(seed)\n",
        "    np.random.seed(seed)\n",
        "    random.seed(seed)\n",
        "    torch.backends.cudnn.deterministic = True\n",
        "    torch.backends.cudnn.benchmark = False"
      ],
      "metadata": {
        "id": "ogv_8cIsMTOP"
      },
      "execution_count": 19,
      "outputs": []
    },
    {
      "cell_type": "code",
      "source": [
        "def seed_worker(worker_id):\n",
        "    worker_seed = torch.initial_seed() % 2**32\n",
        "    np.random.seed(worker_seed)\n",
        "    random.seed(worker_seed)"
      ],
      "metadata": {
        "id": "iWUAFdXQMdRF"
      },
      "execution_count": 20,
      "outputs": []
    },
    {
      "cell_type": "code",
      "source": [
        "seed = 43\n",
        "seed_all(seed)\n",
        "g = torch.Generator()\n",
        "g.manual_seed(seed)"
      ],
      "metadata": {
        "id": "HOWNRD8JMhyI",
        "colab": {
          "base_uri": "https://localhost:8080/"
        },
        "outputId": "e2a475dc-5746-45e1-fb0f-c04b754c1662"
      },
      "execution_count": 21,
      "outputs": [
        {
          "output_type": "stream",
          "name": "stdout",
          "text": [
            "[ Using Seed :  43  ]\n"
          ]
        },
        {
          "output_type": "execute_result",
          "data": {
            "text/plain": [
              "<torch._C.Generator at 0x7f43a76607b0>"
            ]
          },
          "metadata": {},
          "execution_count": 21
        }
      ]
    },
    {
      "cell_type": "markdown",
      "source": [
        "### Split Data"
      ],
      "metadata": {
        "id": "0km9yM3JQR_n"
      }
    },
    {
      "cell_type": "code",
      "source": [
        "df_train, df_val, df_test = np.split(tweets.sample(frac = 1, random_state = seed),[int(0.8*len(tweets)), int(0.9*len(tweets))])\n"
      ],
      "metadata": {
        "id": "SyLmpBFkQS-D"
      },
      "execution_count": 22,
      "outputs": []
    },
    {
      "cell_type": "code",
      "source": [
        "df_train.info()"
      ],
      "metadata": {
        "id": "GMBuaAoeQpWU",
        "colab": {
          "base_uri": "https://localhost:8080/"
        },
        "outputId": "2f92b6eb-1768-49dc-9b53-89012245076e"
      },
      "execution_count": 23,
      "outputs": [
        {
          "output_type": "stream",
          "name": "stdout",
          "text": [
            "<class 'pandas.core.frame.DataFrame'>\n",
            "Int64Index: 9232 entries, 11071 to 13487\n",
            "Data columns (total 2 columns):\n",
            " #   Column             Non-Null Count  Dtype \n",
            "---  ------             --------------  ----- \n",
            " 0   text_clean         9232 non-null   object\n",
            " 1   airline_sentiment  9232 non-null   object\n",
            "dtypes: object(2)\n",
            "memory usage: 216.4+ KB\n"
          ]
        }
      ]
    },
    {
      "cell_type": "code",
      "source": [
        "df_val.info()"
      ],
      "metadata": {
        "id": "Obl9TWmeQqdn",
        "colab": {
          "base_uri": "https://localhost:8080/"
        },
        "outputId": "bc17b877-a1ce-420c-ea48-cc65db3431b0"
      },
      "execution_count": 24,
      "outputs": [
        {
          "output_type": "stream",
          "name": "stdout",
          "text": [
            "<class 'pandas.core.frame.DataFrame'>\n",
            "Int64Index: 1154 entries, 10090 to 14331\n",
            "Data columns (total 2 columns):\n",
            " #   Column             Non-Null Count  Dtype \n",
            "---  ------             --------------  ----- \n",
            " 0   text_clean         1154 non-null   object\n",
            " 1   airline_sentiment  1154 non-null   object\n",
            "dtypes: object(2)\n",
            "memory usage: 27.0+ KB\n"
          ]
        }
      ]
    },
    {
      "cell_type": "code",
      "source": [
        "df_test.info()"
      ],
      "metadata": {
        "id": "okmP7NavQtuF",
        "colab": {
          "base_uri": "https://localhost:8080/"
        },
        "outputId": "7ec53c12-5ecc-4bb1-fc2a-7861d065e852"
      },
      "execution_count": 25,
      "outputs": [
        {
          "output_type": "stream",
          "name": "stdout",
          "text": [
            "<class 'pandas.core.frame.DataFrame'>\n",
            "Int64Index: 1155 entries, 7029 to 4241\n",
            "Data columns (total 2 columns):\n",
            " #   Column             Non-Null Count  Dtype \n",
            "---  ------             --------------  ----- \n",
            " 0   text_clean         1155 non-null   object\n",
            " 1   airline_sentiment  1155 non-null   object\n",
            "dtypes: object(2)\n",
            "memory usage: 27.1+ KB\n"
          ]
        }
      ]
    },
    {
      "cell_type": "code",
      "source": [
        "df_train.head()"
      ],
      "metadata": {
        "id": "bOsX8Yn8QvYn",
        "colab": {
          "base_uri": "https://localhost:8080/",
          "height": 206
        },
        "outputId": "19bba258-1116-4f02-bcff-897d1a495ef8"
      },
      "execution_count": 26,
      "outputs": [
        {
          "output_type": "execute_result",
          "data": {
            "text/plain": [
              "                                              text_clean airline_sentiment\n",
              "11071  should take a lesson from and wait for passeng...          negative\n",
              "10808  amp also that i was told no comps upgrades etc...          negative\n",
              "8184   great thank you lets hope so could you please ...          positive\n",
              "6139   whoa thanks and thats what i wanted to hear ea...          positive\n",
              "4361                      i used to always fly southwest          positive"
            ],
            "text/html": [
              "\n",
              "  <div id=\"df-00b361fd-eb91-42eb-95b6-8e47eb1a24e7\">\n",
              "    <div class=\"colab-df-container\">\n",
              "      <div>\n",
              "<style scoped>\n",
              "    .dataframe tbody tr th:only-of-type {\n",
              "        vertical-align: middle;\n",
              "    }\n",
              "\n",
              "    .dataframe tbody tr th {\n",
              "        vertical-align: top;\n",
              "    }\n",
              "\n",
              "    .dataframe thead th {\n",
              "        text-align: right;\n",
              "    }\n",
              "</style>\n",
              "<table border=\"1\" class=\"dataframe\">\n",
              "  <thead>\n",
              "    <tr style=\"text-align: right;\">\n",
              "      <th></th>\n",
              "      <th>text_clean</th>\n",
              "      <th>airline_sentiment</th>\n",
              "    </tr>\n",
              "  </thead>\n",
              "  <tbody>\n",
              "    <tr>\n",
              "      <th>11071</th>\n",
              "      <td>should take a lesson from and wait for passeng...</td>\n",
              "      <td>negative</td>\n",
              "    </tr>\n",
              "    <tr>\n",
              "      <th>10808</th>\n",
              "      <td>amp also that i was told no comps upgrades etc...</td>\n",
              "      <td>negative</td>\n",
              "    </tr>\n",
              "    <tr>\n",
              "      <th>8184</th>\n",
              "      <td>great thank you lets hope so could you please ...</td>\n",
              "      <td>positive</td>\n",
              "    </tr>\n",
              "    <tr>\n",
              "      <th>6139</th>\n",
              "      <td>whoa thanks and thats what i wanted to hear ea...</td>\n",
              "      <td>positive</td>\n",
              "    </tr>\n",
              "    <tr>\n",
              "      <th>4361</th>\n",
              "      <td>i used to always fly southwest</td>\n",
              "      <td>positive</td>\n",
              "    </tr>\n",
              "  </tbody>\n",
              "</table>\n",
              "</div>\n",
              "      <button class=\"colab-df-convert\" onclick=\"convertToInteractive('df-00b361fd-eb91-42eb-95b6-8e47eb1a24e7')\"\n",
              "              title=\"Convert this dataframe to an interactive table.\"\n",
              "              style=\"display:none;\">\n",
              "        \n",
              "  <svg xmlns=\"http://www.w3.org/2000/svg\" height=\"24px\"viewBox=\"0 0 24 24\"\n",
              "       width=\"24px\">\n",
              "    <path d=\"M0 0h24v24H0V0z\" fill=\"none\"/>\n",
              "    <path d=\"M18.56 5.44l.94 2.06.94-2.06 2.06-.94-2.06-.94-.94-2.06-.94 2.06-2.06.94zm-11 1L8.5 8.5l.94-2.06 2.06-.94-2.06-.94L8.5 2.5l-.94 2.06-2.06.94zm10 10l.94 2.06.94-2.06 2.06-.94-2.06-.94-.94-2.06-.94 2.06-2.06.94z\"/><path d=\"M17.41 7.96l-1.37-1.37c-.4-.4-.92-.59-1.43-.59-.52 0-1.04.2-1.43.59L10.3 9.45l-7.72 7.72c-.78.78-.78 2.05 0 2.83L4 21.41c.39.39.9.59 1.41.59.51 0 1.02-.2 1.41-.59l7.78-7.78 2.81-2.81c.8-.78.8-2.07 0-2.86zM5.41 20L4 18.59l7.72-7.72 1.47 1.35L5.41 20z\"/>\n",
              "  </svg>\n",
              "      </button>\n",
              "      \n",
              "  <style>\n",
              "    .colab-df-container {\n",
              "      display:flex;\n",
              "      flex-wrap:wrap;\n",
              "      gap: 12px;\n",
              "    }\n",
              "\n",
              "    .colab-df-convert {\n",
              "      background-color: #E8F0FE;\n",
              "      border: none;\n",
              "      border-radius: 50%;\n",
              "      cursor: pointer;\n",
              "      display: none;\n",
              "      fill: #1967D2;\n",
              "      height: 32px;\n",
              "      padding: 0 0 0 0;\n",
              "      width: 32px;\n",
              "    }\n",
              "\n",
              "    .colab-df-convert:hover {\n",
              "      background-color: #E2EBFA;\n",
              "      box-shadow: 0px 1px 2px rgba(60, 64, 67, 0.3), 0px 1px 3px 1px rgba(60, 64, 67, 0.15);\n",
              "      fill: #174EA6;\n",
              "    }\n",
              "\n",
              "    [theme=dark] .colab-df-convert {\n",
              "      background-color: #3B4455;\n",
              "      fill: #D2E3FC;\n",
              "    }\n",
              "\n",
              "    [theme=dark] .colab-df-convert:hover {\n",
              "      background-color: #434B5C;\n",
              "      box-shadow: 0px 1px 3px 1px rgba(0, 0, 0, 0.15);\n",
              "      filter: drop-shadow(0px 1px 2px rgba(0, 0, 0, 0.3));\n",
              "      fill: #FFFFFF;\n",
              "    }\n",
              "  </style>\n",
              "\n",
              "      <script>\n",
              "        const buttonEl =\n",
              "          document.querySelector('#df-00b361fd-eb91-42eb-95b6-8e47eb1a24e7 button.colab-df-convert');\n",
              "        buttonEl.style.display =\n",
              "          google.colab.kernel.accessAllowed ? 'block' : 'none';\n",
              "\n",
              "        async function convertToInteractive(key) {\n",
              "          const element = document.querySelector('#df-00b361fd-eb91-42eb-95b6-8e47eb1a24e7');\n",
              "          const dataTable =\n",
              "            await google.colab.kernel.invokeFunction('convertToInteractive',\n",
              "                                                     [key], {});\n",
              "          if (!dataTable) return;\n",
              "\n",
              "          const docLinkHtml = 'Like what you see? Visit the ' +\n",
              "            '<a target=\"_blank\" href=https://colab.research.google.com/notebooks/data_table.ipynb>data table notebook</a>'\n",
              "            + ' to learn more about interactive tables.';\n",
              "          element.innerHTML = '';\n",
              "          dataTable['output_type'] = 'display_data';\n",
              "          await google.colab.output.renderOutput(dataTable, element);\n",
              "          const docLink = document.createElement('div');\n",
              "          docLink.innerHTML = docLinkHtml;\n",
              "          element.appendChild(docLink);\n",
              "        }\n",
              "      </script>\n",
              "    </div>\n",
              "  </div>\n",
              "  "
            ]
          },
          "metadata": {},
          "execution_count": 26
        }
      ]
    },
    {
      "cell_type": "code",
      "source": [
        "# df_train['airlane_sentiment'].value_counts()\n",
        "# "
      ],
      "metadata": {
        "id": "FTwBWpDpjFOs"
      },
      "execution_count": 27,
      "outputs": []
    },
    {
      "cell_type": "code",
      "source": [
        "df_train['airline_sentiment'].value_counts()"
      ],
      "metadata": {
        "id": "XVNj7Lhqlx3i",
        "colab": {
          "base_uri": "https://localhost:8080/"
        },
        "outputId": "d3ccecc4-d52d-4dd0-dda2-c685108de16d"
      },
      "execution_count": 28,
      "outputs": [
        {
          "output_type": "execute_result",
          "data": {
            "text/plain": [
              "negative    7342\n",
              "positive    1890\n",
              "Name: airline_sentiment, dtype: int64"
            ]
          },
          "metadata": {},
          "execution_count": 28
        }
      ]
    },
    {
      "cell_type": "code",
      "source": [
        "df_val.head()"
      ],
      "metadata": {
        "id": "_n3gPwpoQ16c",
        "colab": {
          "base_uri": "https://localhost:8080/",
          "height": 206
        },
        "outputId": "467ad937-ef45-4eec-9d45-7a4ef9d75616"
      },
      "execution_count": 29,
      "outputs": [
        {
          "output_type": "execute_result",
          "data": {
            "text/plain": [
              "                                              text_clean airline_sentiment\n",
              "10090  cancelled flightled my flight then put me on a...          negative\n",
              "11825  they charged me for a flight they cancelled fl...          negative\n",
              "1784    american never had my bags apparently united ...          negative\n",
              "13545   death of a dear friend has me heart broken bu...          negative\n",
              "4100   wanted to but you cancelled flightled my ticke...          negative"
            ],
            "text/html": [
              "\n",
              "  <div id=\"df-aa8ffddd-10c5-46f4-a771-3d34f3968dab\">\n",
              "    <div class=\"colab-df-container\">\n",
              "      <div>\n",
              "<style scoped>\n",
              "    .dataframe tbody tr th:only-of-type {\n",
              "        vertical-align: middle;\n",
              "    }\n",
              "\n",
              "    .dataframe tbody tr th {\n",
              "        vertical-align: top;\n",
              "    }\n",
              "\n",
              "    .dataframe thead th {\n",
              "        text-align: right;\n",
              "    }\n",
              "</style>\n",
              "<table border=\"1\" class=\"dataframe\">\n",
              "  <thead>\n",
              "    <tr style=\"text-align: right;\">\n",
              "      <th></th>\n",
              "      <th>text_clean</th>\n",
              "      <th>airline_sentiment</th>\n",
              "    </tr>\n",
              "  </thead>\n",
              "  <tbody>\n",
              "    <tr>\n",
              "      <th>10090</th>\n",
              "      <td>cancelled flightled my flight then put me on a...</td>\n",
              "      <td>negative</td>\n",
              "    </tr>\n",
              "    <tr>\n",
              "      <th>11825</th>\n",
              "      <td>they charged me for a flight they cancelled fl...</td>\n",
              "      <td>negative</td>\n",
              "    </tr>\n",
              "    <tr>\n",
              "      <th>1784</th>\n",
              "      <td>american never had my bags apparently united ...</td>\n",
              "      <td>negative</td>\n",
              "    </tr>\n",
              "    <tr>\n",
              "      <th>13545</th>\n",
              "      <td>death of a dear friend has me heart broken bu...</td>\n",
              "      <td>negative</td>\n",
              "    </tr>\n",
              "    <tr>\n",
              "      <th>4100</th>\n",
              "      <td>wanted to but you cancelled flightled my ticke...</td>\n",
              "      <td>negative</td>\n",
              "    </tr>\n",
              "  </tbody>\n",
              "</table>\n",
              "</div>\n",
              "      <button class=\"colab-df-convert\" onclick=\"convertToInteractive('df-aa8ffddd-10c5-46f4-a771-3d34f3968dab')\"\n",
              "              title=\"Convert this dataframe to an interactive table.\"\n",
              "              style=\"display:none;\">\n",
              "        \n",
              "  <svg xmlns=\"http://www.w3.org/2000/svg\" height=\"24px\"viewBox=\"0 0 24 24\"\n",
              "       width=\"24px\">\n",
              "    <path d=\"M0 0h24v24H0V0z\" fill=\"none\"/>\n",
              "    <path d=\"M18.56 5.44l.94 2.06.94-2.06 2.06-.94-2.06-.94-.94-2.06-.94 2.06-2.06.94zm-11 1L8.5 8.5l.94-2.06 2.06-.94-2.06-.94L8.5 2.5l-.94 2.06-2.06.94zm10 10l.94 2.06.94-2.06 2.06-.94-2.06-.94-.94-2.06-.94 2.06-2.06.94z\"/><path d=\"M17.41 7.96l-1.37-1.37c-.4-.4-.92-.59-1.43-.59-.52 0-1.04.2-1.43.59L10.3 9.45l-7.72 7.72c-.78.78-.78 2.05 0 2.83L4 21.41c.39.39.9.59 1.41.59.51 0 1.02-.2 1.41-.59l7.78-7.78 2.81-2.81c.8-.78.8-2.07 0-2.86zM5.41 20L4 18.59l7.72-7.72 1.47 1.35L5.41 20z\"/>\n",
              "  </svg>\n",
              "      </button>\n",
              "      \n",
              "  <style>\n",
              "    .colab-df-container {\n",
              "      display:flex;\n",
              "      flex-wrap:wrap;\n",
              "      gap: 12px;\n",
              "    }\n",
              "\n",
              "    .colab-df-convert {\n",
              "      background-color: #E8F0FE;\n",
              "      border: none;\n",
              "      border-radius: 50%;\n",
              "      cursor: pointer;\n",
              "      display: none;\n",
              "      fill: #1967D2;\n",
              "      height: 32px;\n",
              "      padding: 0 0 0 0;\n",
              "      width: 32px;\n",
              "    }\n",
              "\n",
              "    .colab-df-convert:hover {\n",
              "      background-color: #E2EBFA;\n",
              "      box-shadow: 0px 1px 2px rgba(60, 64, 67, 0.3), 0px 1px 3px 1px rgba(60, 64, 67, 0.15);\n",
              "      fill: #174EA6;\n",
              "    }\n",
              "\n",
              "    [theme=dark] .colab-df-convert {\n",
              "      background-color: #3B4455;\n",
              "      fill: #D2E3FC;\n",
              "    }\n",
              "\n",
              "    [theme=dark] .colab-df-convert:hover {\n",
              "      background-color: #434B5C;\n",
              "      box-shadow: 0px 1px 3px 1px rgba(0, 0, 0, 0.15);\n",
              "      filter: drop-shadow(0px 1px 2px rgba(0, 0, 0, 0.3));\n",
              "      fill: #FFFFFF;\n",
              "    }\n",
              "  </style>\n",
              "\n",
              "      <script>\n",
              "        const buttonEl =\n",
              "          document.querySelector('#df-aa8ffddd-10c5-46f4-a771-3d34f3968dab button.colab-df-convert');\n",
              "        buttonEl.style.display =\n",
              "          google.colab.kernel.accessAllowed ? 'block' : 'none';\n",
              "\n",
              "        async function convertToInteractive(key) {\n",
              "          const element = document.querySelector('#df-aa8ffddd-10c5-46f4-a771-3d34f3968dab');\n",
              "          const dataTable =\n",
              "            await google.colab.kernel.invokeFunction('convertToInteractive',\n",
              "                                                     [key], {});\n",
              "          if (!dataTable) return;\n",
              "\n",
              "          const docLinkHtml = 'Like what you see? Visit the ' +\n",
              "            '<a target=\"_blank\" href=https://colab.research.google.com/notebooks/data_table.ipynb>data table notebook</a>'\n",
              "            + ' to learn more about interactive tables.';\n",
              "          element.innerHTML = '';\n",
              "          dataTable['output_type'] = 'display_data';\n",
              "          await google.colab.output.renderOutput(dataTable, element);\n",
              "          const docLink = document.createElement('div');\n",
              "          docLink.innerHTML = docLinkHtml;\n",
              "          element.appendChild(docLink);\n",
              "        }\n",
              "      </script>\n",
              "    </div>\n",
              "  </div>\n",
              "  "
            ]
          },
          "metadata": {},
          "execution_count": 29
        }
      ]
    },
    {
      "cell_type": "code",
      "source": [
        "df_test.head()"
      ],
      "metadata": {
        "id": "iWPljRhNQ3qk",
        "colab": {
          "base_uri": "https://localhost:8080/",
          "height": 206
        },
        "outputId": "fcb8563d-3dcd-452e-9642-4d0a49b4a377"
      },
      "execution_count": 30,
      "outputs": [
        {
          "output_type": "execute_result",
          "data": {
            "text/plain": [
              "                                              text_clean airline_sentiment\n",
              "7029                                          fights air          negative\n",
              "1164   would love help getting there today in now wil...          positive\n",
              "11939  aa doesnt charge any fees to change award tick...          positive\n",
              "14377  lga nashville cancelled flightled phone center...          negative\n",
              "9415   i spent an hour on the phone with them and got...          negative"
            ],
            "text/html": [
              "\n",
              "  <div id=\"df-703a591d-973c-441f-9fb0-44143b047a6f\">\n",
              "    <div class=\"colab-df-container\">\n",
              "      <div>\n",
              "<style scoped>\n",
              "    .dataframe tbody tr th:only-of-type {\n",
              "        vertical-align: middle;\n",
              "    }\n",
              "\n",
              "    .dataframe tbody tr th {\n",
              "        vertical-align: top;\n",
              "    }\n",
              "\n",
              "    .dataframe thead th {\n",
              "        text-align: right;\n",
              "    }\n",
              "</style>\n",
              "<table border=\"1\" class=\"dataframe\">\n",
              "  <thead>\n",
              "    <tr style=\"text-align: right;\">\n",
              "      <th></th>\n",
              "      <th>text_clean</th>\n",
              "      <th>airline_sentiment</th>\n",
              "    </tr>\n",
              "  </thead>\n",
              "  <tbody>\n",
              "    <tr>\n",
              "      <th>7029</th>\n",
              "      <td>fights air</td>\n",
              "      <td>negative</td>\n",
              "    </tr>\n",
              "    <tr>\n",
              "      <th>1164</th>\n",
              "      <td>would love help getting there today in now wil...</td>\n",
              "      <td>positive</td>\n",
              "    </tr>\n",
              "    <tr>\n",
              "      <th>11939</th>\n",
              "      <td>aa doesnt charge any fees to change award tick...</td>\n",
              "      <td>positive</td>\n",
              "    </tr>\n",
              "    <tr>\n",
              "      <th>14377</th>\n",
              "      <td>lga nashville cancelled flightled phone center...</td>\n",
              "      <td>negative</td>\n",
              "    </tr>\n",
              "    <tr>\n",
              "      <th>9415</th>\n",
              "      <td>i spent an hour on the phone with them and got...</td>\n",
              "      <td>negative</td>\n",
              "    </tr>\n",
              "  </tbody>\n",
              "</table>\n",
              "</div>\n",
              "      <button class=\"colab-df-convert\" onclick=\"convertToInteractive('df-703a591d-973c-441f-9fb0-44143b047a6f')\"\n",
              "              title=\"Convert this dataframe to an interactive table.\"\n",
              "              style=\"display:none;\">\n",
              "        \n",
              "  <svg xmlns=\"http://www.w3.org/2000/svg\" height=\"24px\"viewBox=\"0 0 24 24\"\n",
              "       width=\"24px\">\n",
              "    <path d=\"M0 0h24v24H0V0z\" fill=\"none\"/>\n",
              "    <path d=\"M18.56 5.44l.94 2.06.94-2.06 2.06-.94-2.06-.94-.94-2.06-.94 2.06-2.06.94zm-11 1L8.5 8.5l.94-2.06 2.06-.94-2.06-.94L8.5 2.5l-.94 2.06-2.06.94zm10 10l.94 2.06.94-2.06 2.06-.94-2.06-.94-.94-2.06-.94 2.06-2.06.94z\"/><path d=\"M17.41 7.96l-1.37-1.37c-.4-.4-.92-.59-1.43-.59-.52 0-1.04.2-1.43.59L10.3 9.45l-7.72 7.72c-.78.78-.78 2.05 0 2.83L4 21.41c.39.39.9.59 1.41.59.51 0 1.02-.2 1.41-.59l7.78-7.78 2.81-2.81c.8-.78.8-2.07 0-2.86zM5.41 20L4 18.59l7.72-7.72 1.47 1.35L5.41 20z\"/>\n",
              "  </svg>\n",
              "      </button>\n",
              "      \n",
              "  <style>\n",
              "    .colab-df-container {\n",
              "      display:flex;\n",
              "      flex-wrap:wrap;\n",
              "      gap: 12px;\n",
              "    }\n",
              "\n",
              "    .colab-df-convert {\n",
              "      background-color: #E8F0FE;\n",
              "      border: none;\n",
              "      border-radius: 50%;\n",
              "      cursor: pointer;\n",
              "      display: none;\n",
              "      fill: #1967D2;\n",
              "      height: 32px;\n",
              "      padding: 0 0 0 0;\n",
              "      width: 32px;\n",
              "    }\n",
              "\n",
              "    .colab-df-convert:hover {\n",
              "      background-color: #E2EBFA;\n",
              "      box-shadow: 0px 1px 2px rgba(60, 64, 67, 0.3), 0px 1px 3px 1px rgba(60, 64, 67, 0.15);\n",
              "      fill: #174EA6;\n",
              "    }\n",
              "\n",
              "    [theme=dark] .colab-df-convert {\n",
              "      background-color: #3B4455;\n",
              "      fill: #D2E3FC;\n",
              "    }\n",
              "\n",
              "    [theme=dark] .colab-df-convert:hover {\n",
              "      background-color: #434B5C;\n",
              "      box-shadow: 0px 1px 3px 1px rgba(0, 0, 0, 0.15);\n",
              "      filter: drop-shadow(0px 1px 2px rgba(0, 0, 0, 0.3));\n",
              "      fill: #FFFFFF;\n",
              "    }\n",
              "  </style>\n",
              "\n",
              "      <script>\n",
              "        const buttonEl =\n",
              "          document.querySelector('#df-703a591d-973c-441f-9fb0-44143b047a6f button.colab-df-convert');\n",
              "        buttonEl.style.display =\n",
              "          google.colab.kernel.accessAllowed ? 'block' : 'none';\n",
              "\n",
              "        async function convertToInteractive(key) {\n",
              "          const element = document.querySelector('#df-703a591d-973c-441f-9fb0-44143b047a6f');\n",
              "          const dataTable =\n",
              "            await google.colab.kernel.invokeFunction('convertToInteractive',\n",
              "                                                     [key], {});\n",
              "          if (!dataTable) return;\n",
              "\n",
              "          const docLinkHtml = 'Like what you see? Visit the ' +\n",
              "            '<a target=\"_blank\" href=https://colab.research.google.com/notebooks/data_table.ipynb>data table notebook</a>'\n",
              "            + ' to learn more about interactive tables.';\n",
              "          element.innerHTML = '';\n",
              "          dataTable['output_type'] = 'display_data';\n",
              "          await google.colab.output.renderOutput(dataTable, element);\n",
              "          const docLink = document.createElement('div');\n",
              "          docLink.innerHTML = docLinkHtml;\n",
              "          element.appendChild(docLink);\n",
              "        }\n",
              "      </script>\n",
              "    </div>\n",
              "  </div>\n",
              "  "
            ]
          },
          "metadata": {},
          "execution_count": 30
        }
      ]
    },
    {
      "cell_type": "markdown",
      "source": [
        "## Vocabulary Class"
      ],
      "metadata": {
        "id": "_LlGHTCRQ5Xc"
      }
    },
    {
      "cell_type": "code",
      "source": [
        "class Vocabulary : \n",
        "  '''\n",
        "  __init__ method is called by default as soon as an object of this class is initiated\n",
        "  we use this method to initiate our vocab dictionaries\n",
        "  '''\n",
        "\n",
        "  def __init__(self, freq_threshold, max_size):\n",
        "    '''\n",
        "    freq_threshold : the minimum times a word must occur in corpus to be treated in vocab\n",
        "    max_size : max source vocab size. Eg. if set to 10.000, we pick the top 10.000 most frequent words and discard object\n",
        "    '''\n",
        "\n",
        "    # initiate the index to token dict\n",
        "    ## <PAD> --> padding, used for padding the shorter sentences in a batch to match the length of longest sentence in the batch \n",
        "    ## <UNK> --> words which are not found in the vocab are replace by this token\n",
        "    self.itos = {0 : '<PAD>', 1 :'<UNK>'}\n",
        "    \n",
        "    #initiate the token to index dict\n",
        "    self.stoi = {k:j for j,k in self.itos.items()}\n",
        "\n",
        "    self.freq_threshold = freq_threshold\n",
        "    self.max_size = max_size\n",
        "  \n",
        "\n",
        "\n",
        "  '''\n",
        "  __len__ is used by dataloader later to create batches\n",
        "  '''\n",
        "\n",
        "\n",
        "  def __len__(self):\n",
        "    return len(self.itos)\n",
        "\n",
        "\n",
        "  '''\n",
        "  a simple tokenizer to split on space and converts the sentence to list of words\n",
        "  '''\n",
        "\n",
        "  @staticmethod\n",
        "  def tokenizer(text):\n",
        "    return [tok.lower().strip() for tok in text.split(' ')]\n",
        "\n",
        "  \n",
        "  '''\n",
        "  build the vocab : create a dictionary mapping of index to string (itos) and string to index (stoi)\n",
        "  output ex. for stoi -> {'the' : 5, 'a' : 6, 'an' : 7}\n",
        "  '''\n",
        "\n",
        "  \n",
        "  def build_vocabulary(self, sentence_list):\n",
        "    # calculate the frequencies of each word first to remove the words with frew < threshold\n",
        "    frequencies = {} #init the freq dict\n",
        "    idx = 4 # index from which we want to our dict to start. We already used 4 indexs for pad, start, end, unk\n",
        "\n",
        "\n",
        "    # calculate freq of words\n",
        "    for sentence in sentence_list:\n",
        "      for word in self.tokenizer(sentence):\n",
        "        if word not in frequencies.keys():\n",
        "          frequencies[word] = 1\n",
        "        else:\n",
        "          frequencies[word] +=1\n",
        "\n",
        "    # limit vocab by removing low freq words\n",
        "    frequencies = {k:v for k,v in frequencies.items() if v > self.freq_threshold}\n",
        "\n",
        "    # limit vocab to the max size specified\n",
        "    frequencies = dict(sorted(frequencies.items(), key = lambda x :-x[1]) [:self.max_size-idx]) # idx = 4 for pad, start, end, unk\n",
        "\n",
        "    #create vocab\n",
        "    for word in frequencies.keys():\n",
        "      # print(word)\n",
        "      self.stoi[word] = idx\n",
        "      self.itos[idx] = word\n",
        "      idx +=1\n",
        "  \n",
        "\n",
        "  '''\n",
        "  convert the list of words to a list of corresponding indexes\n",
        "  '''\n",
        "  def numericalize(self, text):\n",
        "    #tokenize text \n",
        "    tokenized_text = self.tokenizer(text)\n",
        "    numericalized_text = []\n",
        "    for token in tokenized_text:\n",
        "      if token in self.stoi.keys():\n",
        "        numericalized_text.append(self.stoi[token])\n",
        "      else: # out-of-vocab words are represented by UNK token index\n",
        "        numericalized_text.append(self.stoi['<UNK>'])\n",
        "\n",
        "    return numericalized_text"
      ],
      "metadata": {
        "id": "5A95S87iRCf1"
      },
      "execution_count": 31,
      "outputs": []
    },
    {
      "cell_type": "markdown",
      "source": [
        "## Class DataSet dan DataLoader"
      ],
      "metadata": {
        "id": "20nhW8sLcgAi"
      }
    },
    {
      "cell_type": "code",
      "source": [
        "from torch.utils.data import Dataset, DataLoader\n",
        "from torch.nn.utils.rnn import pad_sequence"
      ],
      "metadata": {
        "id": "vmDS3oGUcjZp"
      },
      "execution_count": 32,
      "outputs": []
    },
    {
      "cell_type": "code",
      "source": [
        "class TweetSentimentDataset(Dataset):\n",
        "  # Static constant variable\n",
        "  LABEL2INDEX = {'positive' : 0, 'negative' : 1}\n",
        "  INDEX2LABEL = {0 : 'positive',  1 : 'negative' }\n",
        "  NUM_LABELS = 2\n",
        "\n",
        "  def load_dataset(self, df):\n",
        "    df.columns = ['text_clean', 'airlane_sentiment']\n",
        "    df['airline_sentiment'] = df['airlane_sentiment'].apply(lambda lab: self.LABEL2INDEX[lab])\n",
        "    # print (df['airline_sentiment'])\n",
        "    return df\n",
        "\n",
        "\n",
        "  \n",
        "  def __init__(self, df, freq_threshold = 3, vocab_max_size = 10000, *args, **kwargs):\n",
        "    self.data = self.load_dataset(df)\n",
        "    self.source_texts = self.data['text_clean'].tolist()\n",
        "    self.freq_threshold = freq_threshold\n",
        "    self.vocab_max_size = vocab_max_size\n",
        "\n",
        "    # ini memanggil class vocabulary\n",
        "    self.vocab = Vocabulary(freq_threshold, vocab_max_size)\n",
        "    self.vocab.build_vocabulary(self.source_texts) #menggunakan attribut (?, lupa namanya) tapi kayanya atribut\n",
        "\n",
        "  def __getitem__(self, index):\n",
        "    data = self.data.iloc[index, : ]\n",
        "    text, sentiment = data['text_clean'], data['airline_sentiment']\n",
        "    token_ids = self.vocab.numericalize(text)\n",
        "    return torch.tensor(token_ids), torch.tensor(sentiment)\n",
        "\n",
        "  def __len__(self):\n",
        "    return len(self.data)"
      ],
      "metadata": {
        "id": "w8p0mtLld8Sq"
      },
      "execution_count": 33,
      "outputs": []
    },
    {
      "cell_type": "code",
      "source": [
        "class MyCollate:\n",
        "  def __init__(self, pad_idx):\n",
        "    self.pad_idx = pad_idx\n",
        "  \n",
        "  def __call__(self, batch):\n",
        "    input_tensors = []\n",
        "    labels  = []\n",
        "    lengths = []\n",
        "\n",
        "    for x,y in batch:\n",
        "      input_tensors.append(x)\n",
        "      labels.append(y)\n",
        "      # print(x)\n",
        "      lengths.append(x.shape[0]) # Assume shape is (T, *)\n",
        "      # print(lengths)\n",
        "    \n",
        "    longest = max(lengths)\n",
        "\n",
        "    if len(input_tensors[0].shape) == 1:\n",
        "      x_padded = torch.nn.utils.rnn.pad_sequence(input_tensors, batch_first= True, padding_value = self.pad_idx)\n",
        "    else : \n",
        "      raise Exception('Current implementation only support (T) shaped data')\n",
        "\n",
        "    y_batched = torch.as_tensor(labels, dtype = torch.long)\n",
        "    return x_padded, y_batched"
      ],
      "metadata": {
        "id": "bINwSVi2heyZ"
      },
      "execution_count": 34,
      "outputs": []
    },
    {
      "cell_type": "markdown",
      "source": [
        "## Tensor Data"
      ],
      "metadata": {
        "id": "fTWCpi-1iu_n"
      }
    },
    {
      "cell_type": "code",
      "source": [
        "# Create Tensor Dataset\n",
        "train_data = TweetSentimentDataset(df_train)\n",
        "val_data = TweetSentimentDataset(df_val)\n",
        "test_data = TweetSentimentDataset(df_test)"
      ],
      "metadata": {
        "id": "GUuGLLfPixoY"
      },
      "execution_count": 35,
      "outputs": []
    },
    {
      "cell_type": "code",
      "source": [
        "# data loaders\n",
        "batch_size = 5\n",
        "\n",
        "\n",
        "\n",
        "# make sure to SHUFFLE ypur data\n",
        "pad_idx = 0\n",
        "colate = MyCollate(pad_idx = pad_idx)\n",
        "train_loader = DataLoader(train_data, shuffle = True, batch_size = batch_size, collate_fn = colate, worker_init_fn = seed_worker, generator = g)\n",
        "valid_loader = DataLoader(val_data, shuffle = True, batch_size = batch_size, collate_fn = colate, worker_init_fn = seed_worker, generator = g)\n",
        "test_loader = DataLoader(test_data, shuffle = True, batch_size = batch_size, collate_fn = colate, worker_init_fn = seed_worker, generator = g)\n"
      ],
      "metadata": {
        "id": "M1hmw57OpFca"
      },
      "execution_count": 36,
      "outputs": []
    },
    {
      "cell_type": "markdown",
      "source": [
        "## Change Into GPU"
      ],
      "metadata": {
        "id": "PuQvWlByp5z6"
      }
    },
    {
      "cell_type": "code",
      "source": [
        "import torch\n",
        "is_cuda = torch.cuda.is_available()\n",
        "\n",
        "# If we have a GPU available, we'll set our device to GPU. We'll use this device variable later in our code\n",
        "\n",
        "if is_cuda:\n",
        "  device = torch.device(\"cuda\")\n",
        "  print(\"GPU is available\")\n",
        "else:\n",
        "  device = torch.device(\"cpu\")\n",
        "  print(\"GPU not available, CPU used\")"
      ],
      "metadata": {
        "id": "K61Ev_hQp-Tc",
        "colab": {
          "base_uri": "https://localhost:8080/"
        },
        "outputId": "d87098f2-ca41-4872-d7b8-a5600c22d776"
      },
      "execution_count": 37,
      "outputs": [
        {
          "output_type": "stream",
          "name": "stdout",
          "text": [
            "GPU is available\n"
          ]
        }
      ]
    },
    {
      "cell_type": "markdown",
      "source": [
        "## Class Model RNN"
      ],
      "metadata": {
        "id": "fnwRuf1yrMXX"
      }
    },
    {
      "cell_type": "code",
      "source": [
        "import torch.nn as nn\n",
        "import torch.nn.functional as F\n",
        "\n",
        "class SentimentRNN(nn.Module):\n",
        "  def __init__(self, no_layers, vocab_size, hidden_dim, embedding_dim,output_dim, drop_prob = 0.5):\n",
        "    super(SentimentRNN, self).__init__()\n",
        "\n",
        "    self.output_dim = output_dim\n",
        "    self.hidden_dim = hidden_dim\n",
        "\n",
        "    self.no_layers = no_layers\n",
        "    self.vobcab_size = vocab_size \n",
        "    self.embedding = nn.Embedding(vocab_size, embedding_dim)\n",
        "    self.rnn = nn.RNN(input_size = embedding_dim, hidden_size = self.hidden_dim, num_layers = no_layers, batch_first = True)\n",
        "    self.dropout = nn.Dropout(0.3)\n",
        "    self.fc = nn.Linear(self.hidden_dim, output_dim)\n",
        "    self.softmax = nn.LogSoftmax(dim =1)\n",
        "\n",
        "  def forward(self, x):\n",
        "    batch_sixze = x.size(0)\n",
        "    embeds = self.embedding(x)\n",
        "    rnn_out, hidden = self.rnn(embeds)\n",
        "    out = self.dropout(hidden.squeeze(0))\n",
        "    out = self.fc(out)\n",
        "    output = self.softmax(out)\n",
        "    return output\n"
      ],
      "metadata": {
        "id": "s3WyKvVWrOl7"
      },
      "execution_count": 38,
      "outputs": []
    },
    {
      "cell_type": "code",
      "source": [
        "train_data[0]"
      ],
      "metadata": {
        "id": "9JOoKEiS0C8x",
        "colab": {
          "base_uri": "https://localhost:8080/"
        },
        "outputId": "af680a8b-5366-4895-955d-7eac40dcc5d8"
      },
      "execution_count": 39,
      "outputs": [
        {
          "output_type": "execute_result",
          "data": {
            "text/plain": [
              "(tensor([ 124,  155,    7, 1623,   37,   11,  110,    9,  227,   37,  352,   69,\n",
              "         1477]),\n",
              " tensor(1))"
            ]
          },
          "metadata": {},
          "execution_count": 39
        }
      ]
    },
    {
      "cell_type": "markdown",
      "source": [
        "## Buat Model"
      ],
      "metadata": {
        "id": "CwEbWxWIsr-8"
      }
    },
    {
      "cell_type": "code",
      "source": [
        "no_layers = 1\n",
        "vocab_size = len(train_data.vocab) + 2 # extra 2 for padding and unknown)\n",
        "embedding_dim = 64\n",
        "output_dim = 2\n",
        "hidden_dim = 256\n",
        "\n",
        "\n",
        "model = SentimentRNN(no_layers, vocab_size, hidden_dim, embedding_dim, output_dim, drop_prob = 0.5)\n",
        "\n",
        "\n",
        "# moving to GPU\n",
        "model.to(device)"
      ],
      "metadata": {
        "id": "edtMG5R-suR1",
        "colab": {
          "base_uri": "https://localhost:8080/"
        },
        "outputId": "e03d95f7-43f3-49b3-d254-36a10197019d"
      },
      "execution_count": 40,
      "outputs": [
        {
          "output_type": "execute_result",
          "data": {
            "text/plain": [
              "SentimentRNN(\n",
              "  (embedding): Embedding(2562, 64)\n",
              "  (rnn): RNN(64, 256, batch_first=True)\n",
              "  (dropout): Dropout(p=0.3, inplace=False)\n",
              "  (fc): Linear(in_features=256, out_features=2, bias=True)\n",
              "  (softmax): LogSoftmax(dim=1)\n",
              ")"
            ]
          },
          "metadata": {},
          "execution_count": 40
        }
      ]
    },
    {
      "cell_type": "markdown",
      "source": [
        "## Training"
      ],
      "metadata": {
        "id": "jWw1R-qUuTTn"
      }
    },
    {
      "cell_type": "code",
      "source": [
        "# import torch.optim as optim \n",
        "# criterion = nn.CrossEntropyLoss()\n",
        "# optimizer = optim.SGD(model.parameters(), lr = 0.001, momentum = 0.9)\n",
        "lr=0.001\n",
        "criterion = nn.NLLLoss()\n",
        "optimizer = torch.optim.Adam(model.parameters(), lr=lr)"
      ],
      "metadata": {
        "id": "82nC9GSWLBOq"
      },
      "execution_count": 41,
      "outputs": []
    },
    {
      "cell_type": "code",
      "source": [
        "import time\n",
        "start_time = time.time()\n",
        "epochs = 10 \n",
        "val_accuracies = []"
      ],
      "metadata": {
        "id": "eVoTct-wnw2N"
      },
      "execution_count": 42,
      "outputs": []
    },
    {
      "cell_type": "markdown",
      "source": [
        "## Menghitung akurasi pada setiap Epoch"
      ],
      "metadata": {
        "id": "i1DddDYEmkKM"
      }
    },
    {
      "cell_type": "code",
      "source": [
        "def compute_accuracy(model, data_loader, device):\n",
        "  with torch.no_grad():\n",
        "    correct_pred, num_examples = 0, 0\n",
        "    for i, (features, targets) in enumerate(data_loader):\n",
        "      features = features.to(device)\n",
        "      targets = targets.to(device)\n",
        "\n",
        "      logits = model(features)\n",
        "      _, predicted_labels = torch.max(logits, 1)\n",
        "      num_examples += targets.size(0)\n",
        "      correct_pred += (predicted_labels == targets).sum()\n",
        "  return correct_pred.float()/num_examples *100\n",
        "\n",
        "with torch.set_grad_enabled(False):\n",
        "  val_accuracies.append(compute_accuracy(model, valid_loader, device))\n",
        "  print(f'val accuracy :' \n",
        "        f'{val_accuracies[-1]:.2f}%'\n",
        "        )"
      ],
      "metadata": {
        "id": "c7EQQsd3mqL8",
        "colab": {
          "base_uri": "https://localhost:8080/"
        },
        "outputId": "c3041629-12a0-464e-fc64-5fa288ff9230"
      },
      "execution_count": 54,
      "outputs": [
        {
          "output_type": "stream",
          "name": "stdout",
          "text": [
            "val accuracy :66.20%\n"
          ]
        }
      ]
    },
    {
      "cell_type": "code",
      "source": [
        "for layer in model.children():\n",
        "   if hasattr(layer, 'reset_parameters'):\n",
        "       layer.reset_parameters()\n",
        "\n",
        "val_accuracies.clear()\n"
      ],
      "metadata": {
        "id": "EatY_xJM0tyE"
      },
      "execution_count": 53,
      "outputs": []
    },
    {
      "cell_type": "code",
      "source": [
        "\n",
        "temp_akurasi = 0.0\n",
        "for epoch in range(epochs):\n",
        "  running_loss = 0.0\n",
        "  model.train()\n",
        "\n",
        "  for i, data in enumerate(train_loader, 0):\n",
        "    inputs, labels = data[0].to(device), data[1].to(device)\n",
        "    # print(inputs)\n",
        "    model.zero_grad()\n",
        "    logits = model(inputs) # ini inputnya itu beda gitu loh\n",
        "    loss = criterion(logits, labels)\n",
        "    optimizer.zero_grad()\n",
        "    loss.backward()\n",
        "    optimizer.step()\n",
        "    running_loss += loss.item()\n",
        "    if i % 500 == 499: # prin every 500 mini batches\n",
        "      print(f'[{epoch + 1}, {i + 1:5d}] loss : {running_loss / 500 :.3f}')\n",
        "      running_loss = 0.0\n",
        "  \n",
        "  with torch.set_grad_enabled(False):\n",
        "    val_accuracies.append(compute_accuracy(model, valid_loader, device))\n",
        "    print(f'val_accuracy : ' \n",
        "          f'{val_accuracies[-1]:.2f}%')\n",
        "  print(f'time elapsed : {(time.time()- start_time)/60:.2f} min')\n",
        "\n",
        "  if (compute_accuracy(model, valid_loader, device) > temp_akurasi):\n",
        "    model_terbaik = model\n",
        "\n",
        "torch.save(model_terbaik.state_dict(), './model bagus.pth')"
      ],
      "metadata": {
        "id": "gHn78j-1uUvN",
        "colab": {
          "base_uri": "https://localhost:8080/"
        },
        "outputId": "e1971086-28f4-4252-beeb-10586d3545f7"
      },
      "execution_count": 55,
      "outputs": [
        {
          "output_type": "stream",
          "name": "stdout",
          "text": [
            "[1,   500] loss : 0.536\n",
            "[1,  1000] loss : 0.500\n",
            "[1,  1500] loss : 0.537\n",
            "val_accuracy : 79.29%\n",
            "time elapsed : 1.80 min\n",
            "[2,   500] loss : 0.521\n",
            "[2,  1000] loss : 0.521\n",
            "[2,  1500] loss : 0.505\n",
            "val_accuracy : 79.90%\n",
            "time elapsed : 1.91 min\n",
            "[3,   500] loss : 0.540\n",
            "[3,  1000] loss : 0.537\n",
            "[3,  1500] loss : 0.521\n",
            "val_accuracy : 78.16%\n",
            "time elapsed : 2.01 min\n",
            "[4,   500] loss : 0.525\n",
            "[4,  1000] loss : 0.532\n",
            "[4,  1500] loss : 0.508\n",
            "val_accuracy : 79.72%\n",
            "time elapsed : 2.12 min\n",
            "[5,   500] loss : 0.534\n",
            "[5,  1000] loss : 0.530\n",
            "[5,  1500] loss : 0.530\n",
            "val_accuracy : 79.90%\n",
            "time elapsed : 2.23 min\n",
            "[6,   500] loss : 0.535\n",
            "[6,  1000] loss : 0.519\n",
            "[6,  1500] loss : 0.516\n",
            "val_accuracy : 74.18%\n",
            "time elapsed : 2.34 min\n",
            "[7,   500] loss : 0.512\n",
            "[7,  1000] loss : 0.533\n",
            "[7,  1500] loss : 0.526\n",
            "val_accuracy : 79.90%\n",
            "time elapsed : 2.45 min\n",
            "[8,   500] loss : 0.526\n",
            "[8,  1000] loss : 0.510\n",
            "[8,  1500] loss : 0.522\n",
            "val_accuracy : 79.90%\n",
            "time elapsed : 2.57 min\n",
            "[9,   500] loss : 0.532\n",
            "[9,  1000] loss : 0.511\n",
            "[9,  1500] loss : 0.544\n",
            "val_accuracy : 78.60%\n",
            "time elapsed : 2.68 min\n",
            "[10,   500] loss : 0.499\n",
            "[10,  1000] loss : 0.531\n",
            "[10,  1500] loss : 0.535\n",
            "val_accuracy : 79.90%\n",
            "time elapsed : 2.79 min\n"
          ]
        }
      ]
    },
    {
      "cell_type": "code",
      "source": [
        "akurasii = [gpu_tensor.to('cpu') for gpu_tensor in val_accuracies]\n",
        "akurasii"
      ],
      "metadata": {
        "id": "99RVkkPCp5WV",
        "colab": {
          "base_uri": "https://localhost:8080/"
        },
        "outputId": "b9410d44-3891-4662-b337-0348b49540b1"
      },
      "execution_count": 57,
      "outputs": [
        {
          "output_type": "execute_result",
          "data": {
            "text/plain": [
              "[tensor(66.2045),\n",
              " tensor(79.2894),\n",
              " tensor(79.8960),\n",
              " tensor(78.1629),\n",
              " tensor(79.7227),\n",
              " tensor(79.8960),\n",
              " tensor(74.1768),\n",
              " tensor(79.8960),\n",
              " tensor(79.8960),\n",
              " tensor(78.5962),\n",
              " tensor(79.8960)]"
            ]
          },
          "metadata": {},
          "execution_count": 57
        }
      ]
    },
    {
      "cell_type": "code",
      "source": [
        "import matplotlib.pyplot as plt\n",
        "x = range(1,len(akurasii[1:])+1)\n",
        "plt.plot(x, akurasii[1:])\n",
        "plt.title(\"Accuracy on Validation Set Model Origial\")\n",
        "plt.xlabel(\"Epoch\")"
      ],
      "metadata": {
        "id": "CgUxP9ndotjY",
        "colab": {
          "base_uri": "https://localhost:8080/",
          "height": 489
        },
        "outputId": "cd520332-622c-4b01-b69e-44af81853bb8"
      },
      "execution_count": 59,
      "outputs": [
        {
          "output_type": "execute_result",
          "data": {
            "text/plain": [
              "Text(0.5, 0, 'Epoch')"
            ]
          },
          "metadata": {},
          "execution_count": 59
        },
        {
          "output_type": "display_data",
          "data": {
            "text/plain": [
              "<Figure size 640x480 with 1 Axes>"
            ],
            "image/png": "[encoded data removed]"
          },
          "metadata": {}
        }
      ]
    },
    {
      "cell_type": "code",
      "source": [
        "model_baik = model\n",
        "model_baik.load_state_dict(torch.load('./model bagus.pth'))"
      ],
      "metadata": {
        "id": "s_g0bLn53PWT",
        "colab": {
          "base_uri": "https://localhost:8080/"
        },
        "outputId": "2f8777a3-909c-43a8-938c-8720604fc59d"
      },
      "execution_count": 48,
      "outputs": [
        {
          "output_type": "execute_result",
          "data": {
            "text/plain": [
              "<All keys matched successfully>"
            ]
          },
          "metadata": {},
          "execution_count": 48
        }
      ]
    },
    {
      "cell_type": "code",
      "source": [
        "akurasi_test = compute_accuracy(model_baik, test_loader, device).item()\n",
        "print(\"Akurasi pada data testing adalah  : \", round(akurasi_test,2), \"%\")"
      ],
      "metadata": {
        "id": "k1uNajddstpW",
        "colab": {
          "base_uri": "https://localhost:8080/"
        },
        "outputId": "848c50be-cab9-4008-a54c-ce6ab8428e60"
      },
      "execution_count": 49,
      "outputs": [
        {
          "output_type": "stream",
          "name": "stdout",
          "text": [
            "Akurasi pada data testing adalah  :  68.05 %\n"
          ]
        }
      ]
    },
    {
      "cell_type": "code",
      "source": [
        "!brew install graphviz\n",
        "!pip install torchviz"
      ],
      "metadata": {
        "id": "LPA0hDOK5hc8",
        "colab": {
          "base_uri": "https://localhost:8080/"
        },
        "outputId": "c8774f15-52bb-4a88-a04b-85294133a4be"
      },
      "execution_count": 50,
      "outputs": [
        {
          "output_type": "stream",
          "name": "stdout",
          "text": [
            "/bin/bash: brew: command not found\n",
            "Looking in indexes: https://pypi.org/simple, https://us-python.pkg.dev/colab-wheels/public/simple/\n",
            "Collecting torchviz\n",
            "  Downloading torchviz-0.0.2.tar.gz (4.9 kB)\n",
            "  Preparing metadata (setup.py) ... \u001b[?25l\u001b[?25hdone\n",
            "Requirement already satisfied: torch in /usr/local/lib/python3.10/dist-packages (from torchviz) (2.0.1+cu118)\n",
            "Requirement already satisfied: graphviz in /usr/local/lib/python3.10/dist-packages (from torchviz) (0.20.1)\n",
            "Requirement already satisfied: filelock in /usr/local/lib/python3.10/dist-packages (from torch->torchviz) (3.12.0)\n",
            "Requirement already satisfied: typing-extensions in /usr/local/lib/python3.10/dist-packages (from torch->torchviz) (4.5.0)\n",
            "Requirement already satisfied: sympy in /usr/local/lib/python3.10/dist-packages (from torch->torchviz) (1.11.1)\n",
            "Requirement already satisfied: networkx in /usr/local/lib/python3.10/dist-packages (from torch->torchviz) (3.1)\n",
            "Requirement already satisfied: jinja2 in /usr/local/lib/python3.10/dist-packages (from torch->torchviz) (3.1.2)\n",
            "Requirement already satisfied: triton==2.0.0 in /usr/local/lib/python3.10/dist-packages (from torch->torchviz) (2.0.0)\n",
            "Requirement already satisfied: cmake in /usr/local/lib/python3.10/dist-packages (from triton==2.0.0->torch->torchviz) (3.25.2)\n",
            "Requirement already satisfied: lit in /usr/local/lib/python3.10/dist-packages (from triton==2.0.0->torch->torchviz) (16.0.5)\n",
            "Requirement already satisfied: MarkupSafe>=2.0 in /usr/local/lib/python3.10/dist-packages (from jinja2->torch->torchviz) (2.1.2)\n",
            "Requirement already satisfied: mpmath>=0.19 in /usr/local/lib/python3.10/dist-packages (from sympy->torch->torchviz) (1.3.0)\n",
            "Building wheels for collected packages: torchviz\n",
            "  Building wheel for torchviz (setup.py) ... \u001b[?25l\u001b[?25hdone\n",
            "  Created wheel for torchviz: filename=torchviz-0.0.2-py3-none-any.whl size=4131 sha256=5b36b1a0d67758e91b1c34ca27acee7ac0f3ab2e32a5fe41b06f0ba4250f3073\n",
            "  Stored in directory: /root/.cache/pip/wheels/4c/97/88/a02973217949e0db0c9f4346d154085f4725f99c4f15a87094\n",
            "Successfully built torchviz\n",
            "Installing collected packages: torchviz\n",
            "Successfully installed torchviz-0.0.2\n"
          ]
        }
      ]
    },
    {
      "cell_type": "code",
      "source": [
        "from torchviz import make_dot\n",
        "inputs, labels = data[0].to(device), data[1].to(device)\n",
        "\n",
        "logits = model(inputs)"
      ],
      "metadata": {
        "id": "J8qYE63n1w7m"
      },
      "execution_count": 51,
      "outputs": []
    },
    {
      "cell_type": "code",
      "source": [
        "make_dot(logits.mean(), params=dict(model.named_parameters()))"
      ],
      "metadata": {
        "colab": {
          "base_uri": "https://localhost:8080/",
          "height": 793
        },
        "id": "mHPMV-oA1y1u",
        "outputId": "edcae351-e5ac-4077-a92a-b730d123492c"
      },
      "execution_count": 52,
      "outputs": [
        {
          "output_type": "execute_result",
          "data": {
            "image/svg+xml": "<?xml version=\"1.0\" encoding=\"UTF-8\" standalone=\"no\"?>\n<!DOCTYPE svg PUBLIC \"-//W3C//DTD SVG 1.1//EN\"\n \"http://www.w3.org/Graphics/SVG/1.1/DTD/svg11.dtd\">\n<!-- Generated by graphviz version 2.43.0 (0)\n -->\n<!-- Title: %3 Pages: 1 -->\n<svg width=\"619pt\" height=\"578pt\"\n viewBox=\"0.00 0.00 619.00 578.00\" xmlns=\"http://www.w3.org/2000/svg\" xmlns:xlink=\"http://www.w3.org/1999/xlink\">\n<g id=\"graph0\" class=\"graph\" transform=\"scale(1 1) rotate(0) translate(4 574)\">\n<title>%3</title>\n<polygon fill=\"white\" stroke=\"transparent\" points=\"-4,4 -4,-574 615,-574 615,4 -4,4\"/>\n<!-- 139928069375056 -->\n<g id=\"node1\" class=\"node\">\n<title>139928069375056</title>\n<polygon fill=\"#caff70\" stroke=\"black\" points=\"343.5,-31 289.5,-31 289.5,0 343.5,0 343.5,-31\"/>\n<text text-anchor=\"middle\" x=\"316.5\" y=\"-7\" font-family=\"monospace\" font-size=\"10.00\"> ()</text>\n</g>\n<!-- 139928068672192 -->\n<g id=\"node2\" class=\"node\">\n<title>139928068672192</title>\n<polygon fill=\"lightgrey\" stroke=\"black\" points=\"364,-86 269,-86 269,-67 364,-67 364,-86\"/>\n<text text-anchor=\"middle\" x=\"316.5\" y=\"-74\" font-family=\"monospace\" font-size=\"10.00\">MeanBackward0</text>\n</g>\n<!-- 139928068672192&#45;&gt;139928069375056 -->\n<g id=\"edge22\" class=\"edge\">\n<title>139928068672192&#45;&gt;139928069375056</title>\n<path fill=\"none\" stroke=\"black\" d=\"M316.5,-66.79C316.5,-60.07 316.5,-50.4 316.5,-41.34\"/>\n<polygon fill=\"black\" stroke=\"black\" points=\"320,-41.19 316.5,-31.19 313,-41.19 320,-41.19\"/>\n</g>\n<!-- 139928068682848 -->\n<g id=\"node3\" class=\"node\">\n<title>139928068682848</title>\n<polygon fill=\"lightgrey\" stroke=\"black\" points=\"382,-141 251,-141 251,-122 382,-122 382,-141\"/>\n<text text-anchor=\"middle\" x=\"316.5\" y=\"-129\" font-family=\"monospace\" font-size=\"10.00\">LogSoftmaxBackward0</text>\n</g>\n<!-- 139928068682848&#45;&gt;139928068672192 -->\n<g id=\"edge1\" class=\"edge\">\n<title>139928068682848&#45;&gt;139928068672192</title>\n<path fill=\"none\" stroke=\"black\" d=\"M316.5,-121.75C316.5,-114.8 316.5,-104.85 316.5,-96.13\"/>\n<polygon fill=\"black\" stroke=\"black\" points=\"320,-96.09 316.5,-86.09 313,-96.09 320,-96.09\"/>\n</g>\n<!-- 139928068672624 -->\n<g id=\"node4\" class=\"node\">\n<title>139928068672624</title>\n<polygon fill=\"lightgrey\" stroke=\"black\" points=\"367,-196 266,-196 266,-177 367,-177 367,-196\"/>\n<text text-anchor=\"middle\" x=\"316.5\" y=\"-184\" font-family=\"monospace\" font-size=\"10.00\">AddmmBackward0</text>\n</g>\n<!-- 139928068672624&#45;&gt;139928068682848 -->\n<g id=\"edge2\" class=\"edge\">\n<title>139928068672624&#45;&gt;139928068682848</title>\n<path fill=\"none\" stroke=\"black\" d=\"M316.5,-176.75C316.5,-169.8 316.5,-159.85 316.5,-151.13\"/>\n<polygon fill=\"black\" stroke=\"black\" points=\"320,-151.09 316.5,-141.09 313,-151.09 320,-151.09\"/>\n</g>\n<!-- 139928068672672 -->\n<g id=\"node5\" class=\"node\">\n<title>139928068672672</title>\n<polygon fill=\"lightgrey\" stroke=\"black\" points=\"224,-251 123,-251 123,-232 224,-232 224,-251\"/>\n<text text-anchor=\"middle\" x=\"173.5\" y=\"-239\" font-family=\"monospace\" font-size=\"10.00\">AccumulateGrad</text>\n</g>\n<!-- 139928068672672&#45;&gt;139928068672624 -->\n<g id=\"edge3\" class=\"edge\">\n<title>139928068672672&#45;&gt;139928068672624</title>\n<path fill=\"none\" stroke=\"black\" d=\"M196.48,-231.98C220,-223.27 256.79,-209.63 283.44,-199.75\"/>\n<polygon fill=\"black\" stroke=\"black\" points=\"284.95,-202.93 293.11,-196.17 282.51,-196.36 284.95,-202.93\"/>\n</g>\n<!-- 139928610436928 -->\n<g id=\"node6\" class=\"node\">\n<title>139928610436928</title>\n<polygon fill=\"lightblue\" stroke=\"black\" points=\"203,-317 144,-317 144,-287 203,-287 203,-317\"/>\n<text text-anchor=\"middle\" x=\"173.5\" y=\"-305\" font-family=\"monospace\" font-size=\"10.00\">fc.bias</text>\n<text text-anchor=\"middle\" x=\"173.5\" y=\"-294\" font-family=\"monospace\" font-size=\"10.00\"> (2)</text>\n</g>\n<!-- 139928610436928&#45;&gt;139928068672672 -->\n<g id=\"edge4\" class=\"edge\">\n<title>139928610436928&#45;&gt;139928068672672</title>\n<path fill=\"none\" stroke=\"black\" d=\"M173.5,-286.84C173.5,-279.21 173.5,-269.7 173.5,-261.45\"/>\n<polygon fill=\"black\" stroke=\"black\" points=\"177,-261.27 173.5,-251.27 170,-261.27 177,-261.27\"/>\n</g>\n<!-- 139928068672144 -->\n<g id=\"node7\" class=\"node\">\n<title>139928068672144</title>\n<polygon fill=\"lightgrey\" stroke=\"black\" points=\"391,-251 242,-251 242,-232 391,-232 391,-251\"/>\n<text text-anchor=\"middle\" x=\"316.5\" y=\"-239\" font-family=\"monospace\" font-size=\"10.00\">NativeDropoutBackward0</text>\n</g>\n<!-- 139928068672144&#45;&gt;139928068672624 -->\n<g id=\"edge5\" class=\"edge\">\n<title>139928068672144&#45;&gt;139928068672624</title>\n<path fill=\"none\" stroke=\"black\" d=\"M316.5,-231.75C316.5,-224.8 316.5,-214.85 316.5,-206.13\"/>\n<polygon fill=\"black\" stroke=\"black\" points=\"320,-206.09 316.5,-196.09 313,-206.09 320,-206.09\"/>\n</g>\n<!-- 139928068947248 -->\n<g id=\"node8\" class=\"node\">\n<title>139928068947248</title>\n<polygon fill=\"lightgrey\" stroke=\"black\" points=\"373,-311.5 260,-311.5 260,-292.5 373,-292.5 373,-311.5\"/>\n<text text-anchor=\"middle\" x=\"316.5\" y=\"-299.5\" font-family=\"monospace\" font-size=\"10.00\">SqueezeBackward1</text>\n</g>\n<!-- 139928068947248&#45;&gt;139928068672144 -->\n<g id=\"edge6\" class=\"edge\">\n<title>139928068947248&#45;&gt;139928068672144</title>\n<path fill=\"none\" stroke=\"black\" d=\"M316.5,-292.37C316.5,-284.25 316.5,-271.81 316.5,-261.39\"/>\n<polygon fill=\"black\" stroke=\"black\" points=\"320,-261.17 316.5,-251.17 313,-261.17 320,-261.17\"/>\n</g>\n<!-- 139928068945376 -->\n<g id=\"node9\" class=\"node\">\n<title>139928068945376</title>\n<polygon fill=\"lightgrey\" stroke=\"black\" points=\"376,-377.5 257,-377.5 257,-358.5 376,-358.5 376,-377.5\"/>\n<text text-anchor=\"middle\" x=\"316.5\" y=\"-365.5\" font-family=\"monospace\" font-size=\"10.00\">CudnnRnnBackward0</text>\n</g>\n<!-- 139928068945376&#45;&gt;139928068947248 -->\n<g id=\"edge7\" class=\"edge\">\n<title>139928068945376&#45;&gt;139928068947248</title>\n<path fill=\"none\" stroke=\"black\" d=\"M316.5,-358.37C316.5,-349.16 316.5,-334.29 316.5,-322.27\"/>\n<polygon fill=\"black\" stroke=\"black\" points=\"320,-321.91 316.5,-311.91 313,-321.91 320,-321.91\"/>\n</g>\n<!-- 139928068945952 -->\n<g id=\"node10\" class=\"node\">\n<title>139928068945952</title>\n<polygon fill=\"lightgrey\" stroke=\"black\" points=\"125,-438 0,-438 0,-419 125,-419 125,-438\"/>\n<text text-anchor=\"middle\" x=\"62.5\" y=\"-426\" font-family=\"monospace\" font-size=\"10.00\">EmbeddingBackward0</text>\n</g>\n<!-- 139928068945952&#45;&gt;139928068945376 -->\n<g id=\"edge8\" class=\"edge\">\n<title>139928068945952&#45;&gt;139928068945376</title>\n<path fill=\"none\" stroke=\"black\" d=\"M99.43,-418.99C144.39,-408.64 220.38,-391.14 269.47,-379.83\"/>\n<polygon fill=\"black\" stroke=\"black\" points=\"270.56,-383.17 279.52,-377.52 268.99,-376.35 270.56,-383.17\"/>\n</g>\n<!-- 139928068937840 -->\n<g id=\"node11\" class=\"node\">\n<title>139928068937840</title>\n<polygon fill=\"lightgrey\" stroke=\"black\" points=\"111,-498.5 10,-498.5 10,-479.5 111,-479.5 111,-498.5\"/>\n<text text-anchor=\"middle\" x=\"60.5\" y=\"-486.5\" font-family=\"monospace\" font-size=\"10.00\">AccumulateGrad</text>\n</g>\n<!-- 139928068937840&#45;&gt;139928068945952 -->\n<g id=\"edge9\" class=\"edge\">\n<title>139928068937840&#45;&gt;139928068945952</title>\n<path fill=\"none\" stroke=\"black\" d=\"M60.8,-479.37C61.07,-471.25 61.5,-458.81 61.85,-448.39\"/>\n<polygon fill=\"black\" stroke=\"black\" points=\"65.36,-448.28 62.2,-438.17 58.36,-448.04 65.36,-448.28\"/>\n</g>\n<!-- 139928548057280 -->\n<g id=\"node12\" class=\"node\">\n<title>139928548057280</title>\n<polygon fill=\"lightblue\" stroke=\"black\" points=\"117,-570 4,-570 4,-540 117,-540 117,-570\"/>\n<text text-anchor=\"middle\" x=\"60.5\" y=\"-558\" font-family=\"monospace\" font-size=\"10.00\">embedding.weight</text>\n<text text-anchor=\"middle\" x=\"60.5\" y=\"-547\" font-family=\"monospace\" font-size=\"10.00\"> (2562, 64)</text>\n</g>\n<!-- 139928548057280&#45;&gt;139928068937840 -->\n<g id=\"edge10\" class=\"edge\">\n<title>139928548057280&#45;&gt;139928068937840</title>\n<path fill=\"none\" stroke=\"black\" d=\"M60.5,-539.8C60.5,-530.7 60.5,-518.79 60.5,-508.9\"/>\n<polygon fill=\"black\" stroke=\"black\" points=\"64,-508.84 60.5,-498.84 57,-508.84 64,-508.84\"/>\n</g>\n<!-- 139928068944416 -->\n<g id=\"node13\" class=\"node\">\n<title>139928068944416</title>\n<polygon fill=\"lightgrey\" stroke=\"black\" points=\"247,-438 146,-438 146,-419 247,-419 247,-438\"/>\n<text text-anchor=\"middle\" x=\"196.5\" y=\"-426\" font-family=\"monospace\" font-size=\"10.00\">AccumulateGrad</text>\n</g>\n<!-- 139928068944416&#45;&gt;139928068945376 -->\n<g id=\"edge11\" class=\"edge\">\n<title>139928068944416&#45;&gt;139928068945376</title>\n<path fill=\"none\" stroke=\"black\" d=\"M213.95,-418.99C233.86,-409.29 266.64,-393.31 289.77,-382.03\"/>\n<polygon fill=\"black\" stroke=\"black\" points=\"291.57,-385.04 299.03,-377.52 288.51,-378.75 291.57,-385.04\"/>\n</g>\n<!-- 139928592092912 -->\n<g id=\"node14\" class=\"node\">\n<title>139928592092912</title>\n<polygon fill=\"lightblue\" stroke=\"black\" points=\"242,-504 129,-504 129,-474 242,-474 242,-504\"/>\n<text text-anchor=\"middle\" x=\"185.5\" y=\"-492\" font-family=\"monospace\" font-size=\"10.00\">rnn.weight_ih_l0</text>\n<text text-anchor=\"middle\" x=\"185.5\" y=\"-481\" font-family=\"monospace\" font-size=\"10.00\"> (256, 64)</text>\n</g>\n<!-- 139928592092912&#45;&gt;139928068944416 -->\n<g id=\"edge12\" class=\"edge\">\n<title>139928592092912&#45;&gt;139928068944416</title>\n<path fill=\"none\" stroke=\"black\" d=\"M188.16,-473.84C189.61,-466.13 191.43,-456.49 192.99,-448.17\"/>\n<polygon fill=\"black\" stroke=\"black\" points=\"196.44,-448.74 194.85,-438.27 189.56,-447.45 196.44,-448.74\"/>\n</g>\n<!-- 139928068946048 -->\n<g id=\"node15\" class=\"node\">\n<title>139928068946048</title>\n<polygon fill=\"lightgrey\" stroke=\"black\" points=\"367,-438 266,-438 266,-419 367,-419 367,-438\"/>\n<text text-anchor=\"middle\" x=\"316.5\" y=\"-426\" font-family=\"monospace\" font-size=\"10.00\">AccumulateGrad</text>\n</g>\n<!-- 139928068946048&#45;&gt;139928068945376 -->\n<g id=\"edge13\" class=\"edge\">\n<title>139928068946048&#45;&gt;139928068945376</title>\n<path fill=\"none\" stroke=\"black\" d=\"M316.5,-418.87C316.5,-410.75 316.5,-398.31 316.5,-387.89\"/>\n<polygon fill=\"black\" stroke=\"black\" points=\"320,-387.67 316.5,-377.67 313,-387.67 320,-387.67\"/>\n</g>\n<!-- 139928591072880 -->\n<g id=\"node16\" class=\"node\">\n<title>139928591072880</title>\n<polygon fill=\"lightblue\" stroke=\"black\" points=\"373,-504 260,-504 260,-474 373,-474 373,-504\"/>\n<text text-anchor=\"middle\" x=\"316.5\" y=\"-492\" font-family=\"monospace\" font-size=\"10.00\">rnn.weight_hh_l0</text>\n<text text-anchor=\"middle\" x=\"316.5\" y=\"-481\" font-family=\"monospace\" font-size=\"10.00\"> (256, 256)</text>\n</g>\n<!-- 139928591072880&#45;&gt;139928068946048 -->\n<g id=\"edge14\" class=\"edge\">\n<title>139928591072880&#45;&gt;139928068946048</title>\n<path fill=\"none\" stroke=\"black\" d=\"M316.5,-473.84C316.5,-466.21 316.5,-456.7 316.5,-448.45\"/>\n<polygon fill=\"black\" stroke=\"black\" points=\"320,-448.27 316.5,-438.27 313,-448.27 320,-448.27\"/>\n</g>\n<!-- 139928068943504 -->\n<g id=\"node17\" class=\"node\">\n<title>139928068943504</title>\n<polygon fill=\"lightgrey\" stroke=\"black\" points=\"489,-438 388,-438 388,-419 489,-419 489,-438\"/>\n<text text-anchor=\"middle\" x=\"438.5\" y=\"-426\" font-family=\"monospace\" font-size=\"10.00\">AccumulateGrad</text>\n</g>\n<!-- 139928068943504&#45;&gt;139928068945376 -->\n<g id=\"edge15\" class=\"edge\">\n<title>139928068943504&#45;&gt;139928068945376</title>\n<path fill=\"none\" stroke=\"black\" d=\"M420.76,-418.99C400.43,-409.25 366.89,-393.16 343.36,-381.88\"/>\n<polygon fill=\"black\" stroke=\"black\" points=\"344.79,-378.68 334.26,-377.52 341.76,-385 344.79,-378.68\"/>\n</g>\n<!-- 139928585962576 -->\n<g id=\"node18\" class=\"node\">\n<title>139928585962576</title>\n<polygon fill=\"lightblue\" stroke=\"black\" points=\"492,-504 391,-504 391,-474 492,-474 492,-504\"/>\n<text text-anchor=\"middle\" x=\"441.5\" y=\"-492\" font-family=\"monospace\" font-size=\"10.00\">rnn.bias_ih_l0</text>\n<text text-anchor=\"middle\" x=\"441.5\" y=\"-481\" font-family=\"monospace\" font-size=\"10.00\"> (256)</text>\n</g>\n<!-- 139928585962576&#45;&gt;139928068943504 -->\n<g id=\"edge16\" class=\"edge\">\n<title>139928585962576&#45;&gt;139928068943504</title>\n<path fill=\"none\" stroke=\"black\" d=\"M440.77,-473.84C440.38,-466.21 439.9,-456.7 439.47,-448.45\"/>\n<polygon fill=\"black\" stroke=\"black\" points=\"442.96,-448.07 438.95,-438.27 435.97,-448.43 442.96,-448.07\"/>\n</g>\n<!-- 139928068938800 -->\n<g id=\"node19\" class=\"node\">\n<title>139928068938800</title>\n<polygon fill=\"lightgrey\" stroke=\"black\" points=\"609,-438 508,-438 508,-419 609,-419 609,-438\"/>\n<text text-anchor=\"middle\" x=\"558.5\" y=\"-426\" font-family=\"monospace\" font-size=\"10.00\">AccumulateGrad</text>\n</g>\n<!-- 139928068938800&#45;&gt;139928068945376 -->\n<g id=\"edge17\" class=\"edge\">\n<title>139928068938800&#45;&gt;139928068945376</title>\n<path fill=\"none\" stroke=\"black\" d=\"M523.31,-418.99C480.57,-408.66 408.38,-391.21 361.6,-379.9\"/>\n<polygon fill=\"black\" stroke=\"black\" points=\"362.27,-376.46 351.73,-377.52 360.63,-383.27 362.27,-376.46\"/>\n</g>\n<!-- 139928590068816 -->\n<g id=\"node20\" class=\"node\">\n<title>139928590068816</title>\n<polygon fill=\"lightblue\" stroke=\"black\" points=\"611,-504 510,-504 510,-474 611,-474 611,-504\"/>\n<text text-anchor=\"middle\" x=\"560.5\" y=\"-492\" font-family=\"monospace\" font-size=\"10.00\">rnn.bias_hh_l0</text>\n<text text-anchor=\"middle\" x=\"560.5\" y=\"-481\" font-family=\"monospace\" font-size=\"10.00\"> (256)</text>\n</g>\n<!-- 139928590068816&#45;&gt;139928068938800 -->\n<g id=\"edge18\" class=\"edge\">\n<title>139928590068816&#45;&gt;139928068938800</title>\n<path fill=\"none\" stroke=\"black\" d=\"M560.02,-473.84C559.76,-466.21 559.43,-456.7 559.15,-448.45\"/>\n<polygon fill=\"black\" stroke=\"black\" points=\"562.64,-448.14 558.8,-438.27 555.64,-448.38 562.64,-448.14\"/>\n</g>\n<!-- 139928068682896 -->\n<g id=\"node21\" class=\"node\">\n<title>139928068682896</title>\n<polygon fill=\"lightgrey\" stroke=\"black\" points=\"486,-251 409,-251 409,-232 486,-232 486,-251\"/>\n<text text-anchor=\"middle\" x=\"447.5\" y=\"-239\" font-family=\"monospace\" font-size=\"10.00\">TBackward0</text>\n</g>\n<!-- 139928068682896&#45;&gt;139928068672624 -->\n<g id=\"edge19\" class=\"edge\">\n<title>139928068682896&#45;&gt;139928068672624</title>\n<path fill=\"none\" stroke=\"black\" d=\"M426.45,-231.98C405.09,-223.34 371.8,-209.87 347.44,-200.02\"/>\n<polygon fill=\"black\" stroke=\"black\" points=\"348.51,-196.68 337.93,-196.17 345.89,-203.17 348.51,-196.68\"/>\n</g>\n<!-- 139928068938704 -->\n<g id=\"node22\" class=\"node\">\n<title>139928068938704</title>\n<polygon fill=\"lightgrey\" stroke=\"black\" points=\"498,-311.5 397,-311.5 397,-292.5 498,-292.5 498,-311.5\"/>\n<text text-anchor=\"middle\" x=\"447.5\" y=\"-299.5\" font-family=\"monospace\" font-size=\"10.00\">AccumulateGrad</text>\n</g>\n<!-- 139928068938704&#45;&gt;139928068682896 -->\n<g id=\"edge20\" class=\"edge\">\n<title>139928068938704&#45;&gt;139928068682896</title>\n<path fill=\"none\" stroke=\"black\" d=\"M447.5,-292.37C447.5,-284.25 447.5,-271.81 447.5,-261.39\"/>\n<polygon fill=\"black\" stroke=\"black\" points=\"451,-261.17 447.5,-251.17 444,-261.17 451,-261.17\"/>\n</g>\n<!-- 139928610436848 -->\n<g id=\"node23\" class=\"node\">\n<title>139928610436848</title>\n<polygon fill=\"lightblue\" stroke=\"black\" points=\"483,-383 412,-383 412,-353 483,-353 483,-383\"/>\n<text text-anchor=\"middle\" x=\"447.5\" y=\"-371\" font-family=\"monospace\" font-size=\"10.00\">fc.weight</text>\n<text text-anchor=\"middle\" x=\"447.5\" y=\"-360\" font-family=\"monospace\" font-size=\"10.00\"> (2, 256)</text>\n</g>\n<!-- 139928610436848&#45;&gt;139928068938704 -->\n<g id=\"edge21\" class=\"edge\">\n<title>139928610436848&#45;&gt;139928068938704</title>\n<path fill=\"none\" stroke=\"black\" d=\"M447.5,-352.8C447.5,-343.7 447.5,-331.79 447.5,-321.9\"/>\n<polygon fill=\"black\" stroke=\"black\" points=\"451,-321.84 447.5,-311.84 444,-321.84 451,-321.84\"/>\n</g>\n</g>\n</svg>\n",
            "text/plain": [
              "<graphviz.graphs.Digraph at 0x7f438ad3cb50>"
            ]
          },
          "metadata": {},
          "execution_count": 52
        }
      ]
    }
  ]
}